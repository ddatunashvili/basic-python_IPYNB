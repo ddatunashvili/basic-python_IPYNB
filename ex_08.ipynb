{
 "cells": [
  {
   "cell_type": "code",
   "execution_count": 23,
   "metadata": {},
   "outputs": [
    {
     "name": "stdout",
     "output_type": "stream",
     "text": [
      "1 2 3 4\n",
      "რას დვა ტრი ჩეტირე\n",
      "რაც მოგივა დავითაო ყველა შენი თავითაო\n",
      "{} {} {} {} {} {} {} {} {} {} {} {} {} {} {} {}\n",
      "ნახეს უცხო მოყმე ვინმე, წყლის პირას იჯდა\n"
     ]
    }
   ],
   "source": [
    "# მიანიჭე ცვლადს \"{} {} {} {}\" სტრინგი და \n",
    "# ჩუმად ჩაუდე სტრინგს 4 სტრინგი\n",
    "formatter = \"{} {} {} {}\"\n",
    "# დაბეჭდე ფორმატერში ჩასმული 1,2,3,4\n",
    "print(formatter.format(1, 2, 3, 4))\n",
    "# რუსული თუიცი ბრატ მოი ?!\n",
    "print(formatter.format(\"რას\", \"დვა\", \"ტრი\", \"ჩეტირე\"))\n",
    "# ვაა დაჟე ანდაზებიც იცი ?!\n",
    "print(formatter.format('რაც მოგივა დავითაო', 'ყველა', 'შენი', 'თავითაო'))\n",
    "# შენ დიზაინიც გცოდნია\n",
    "print(formatter.format(formatter, formatter, formatter, formatter))\n",
    "# აბა ვეფხიტყაოსანი მითხარ\n",
    "print(formatter.format\n",
    "(\n",
    "    \"ნახეს\",\n",
    "    \"უცხო\",\n",
    "    \"მოყმე ვინმე,\",\n",
    "    \"წყლის პირას იჯდა\",\n",
    "))"
   ]
  },
  {
   "cell_type": "code",
   "execution_count": 86,
   "metadata": {},
   "outputs": [
    {
     "ename": "IndexError",
     "evalue": "Replacement index 3 out of range for positional args tuple",
     "output_type": "error",
     "traceback": [
      "\u001b[1;31m---------------------------------------------------------------------------\u001b[0m",
      "\u001b[1;31mIndexError\u001b[0m                                Traceback (most recent call last)",
      "\u001b[1;32m<ipython-input-86-b0155cd94d1b>\u001b[0m in \u001b[0;36m<module>\u001b[1;34m\u001b[0m\n\u001b[0;32m      4\u001b[0m '''\n\u001b[0;32m      5\u001b[0m print(\n\u001b[1;32m----> 6\u001b[1;33m     \u001b[0mformatter\u001b[0m\u001b[1;33m.\u001b[0m\u001b[1;33m\u001b[0m\u001b[1;33m\u001b[0m\u001b[0m\n\u001b[0m\u001b[0;32m      7\u001b[0m       format('რაც მოგივა დავითაო',\n\u001b[0;32m      8\u001b[0m                        'ყველა' 'შენი','თავითაო'))\n",
      "\u001b[1;31mIndexError\u001b[0m: Replacement index 3 out of range for positional args tuple"
     ]
    }
   ],
   "source": [
    "\n",
    "'''\n",
    "syntax: თუ ოთხი სტრინგი გინდა გამოვიყენო სამი მეყოფა?\n",
    "print(formatter.format('რაც მოგივა დავითაო', 'შენი', 'თავითაო'))\n",
    "'''\n",
    "print(formatter.format('რაც მოგივა დავითაო', 'ყველა', 'შენი','თავითაო'))"
   ]
  },
  {
   "cell_type": "code",
   "execution_count": 82,
   "metadata": {},
   "outputs": [
    {
     "ename": "TypeError",
     "evalue": "bad operand type for unary +: 'str'",
     "output_type": "error",
     "traceback": [
      "\u001b[1;31m---------------------------------------------------------------------------\u001b[0m",
      "\u001b[1;31mTypeError\u001b[0m                                 Traceback (most recent call last)",
      "\u001b[1;32m<ipython-input-82-4bdbce0bb41a>\u001b[0m in \u001b[0;36m<module>\u001b[1;34m\u001b[0m\n\u001b[0;32m      2\u001b[0m \u001b[1;33m\u001b[0m\u001b[0m\n\u001b[0;32m      3\u001b[0m '''\n\u001b[1;32m----> 4\u001b[1;33m \u001b[0mprint\u001b[0m\u001b[1;33m(\u001b[0m\u001b[0mformatter\u001b[0m\u001b[1;33m.\u001b[0m\u001b[0mformat\u001b[0m\u001b[1;33m(\u001b[0m\u001b[1;34m'რაც მოგივა დავითაო'\u001b[0m\u001b[1;33m,\u001b[0m \u001b[1;34m'ყველა'\u001b[0m\u001b[1;33m,\u001b[0m \u001b[1;33m+\u001b[0m  \u001b[1;34m'შენი'\u001b[0m\u001b[1;33m,\u001b[0m\u001b[1;34m'თავითაო'\u001b[0m\u001b[1;33m)\u001b[0m\u001b[1;33m)\u001b[0m\u001b[1;33m\u001b[0m\u001b[1;33m\u001b[0m\u001b[0m\n\u001b[0m",
      "\u001b[1;31mTypeError\u001b[0m: bad operand type for unary +: 'str'"
     ]
    }
   ],
   "source": []
  },
  {
   "cell_type": "code",
   "execution_count": null,
   "metadata": {},
   "outputs": [],
   "source": []
  }
 ],
 "metadata": {
  "kernelspec": {
   "display_name": "Python 3",
   "language": "python",
   "name": "python3"
  },
  "language_info": {
   "codemirror_mode": {
    "name": "ipython",
    "version": 3
   },
   "file_extension": ".py",
   "mimetype": "text/x-python",
   "name": "python",
   "nbconvert_exporter": "python",
   "pygments_lexer": "ipython3",
   "version": "3.8.3"
  }
 },
 "nbformat": 4,
 "nbformat_minor": 4
}
