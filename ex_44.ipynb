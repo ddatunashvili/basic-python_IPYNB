{
 "cells": [
  {
   "cell_type": "code",
   "execution_count": null,
   "metadata": {},
   "outputs": [],
   "source": [
    "                'ოოპ '\n",
    "'ლექცია 9 - დრო 1:14:40-02:20:29'\n",
    "# აირჩიე მეთოთი top-down თუ bottom-top\n",
    "'top-down'\n",
    "# თუ წინასწარ იცი რა არის გასაკეთებელი\n",
    "'''\n",
    "იქმნება ჩონჩხი\n",
    "და მერე ხდება კიდურების აღწერა\n",
    "'''\n",
    "'bottom-top'\n",
    "# თუ რაღაცის ნაწილი გინდა შსექმნა\n",
    "'''\n",
    "ჯერ აიღებ ერთ კიდურს და კარგად აღწერ\n",
    "შემდეგ მეორე კიდურს და კარგად აღწერ\n",
    "მერე გადააბავ კიდეურებს\n",
    "'''"
   ]
  }
 ],
 "metadata": {
  "kernelspec": {
   "display_name": "Python 3",
   "language": "python",
   "name": "python3"
  },
  "language_info": {
   "codemirror_mode": {
    "name": "ipython",
    "version": 3
   },
   "file_extension": ".py",
   "mimetype": "text/x-python",
   "name": "python",
   "nbconvert_exporter": "python",
   "pygments_lexer": "ipython3",
   "version": "3.8.5"
  }
 },
 "nbformat": 4,
 "nbformat_minor": 4
}
