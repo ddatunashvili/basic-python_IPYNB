{
 "cells": [
  {
   "cell_type": "code",
   "execution_count": null,
   "metadata": {},
   "outputs": [],
   "source": [
    "# ფუნქციისს სახელი და არგუმენტი\n",
    "def print_two(*args): # სიის სახით მომეცი ყველაფერი და მე მივხედავ\n",
    "    arg1, arg2 = args\n",
    "    print(f\"პირველი არგუმენტია: {arg1}, მეორე აარგუმენტია : {arg2}\")\n",
    "    \n",
    "def print_two_again(arg1,arg2):\n",
    "    print(f\"პირველი არგუმენტი: {arg1}, მეორე არგუმენტი: {arg2}\")\n",
    "    \n",
    "def print_one(arg1):\n",
    "    print(f'ერთი არგუმენტი {arg1}')\n",
    "    \n",
    "def print_none():\n",
    "    print(\"სადაა არგუმენტი?!\")\n",
    "\n",
    "print_two('დავით', 'დათუნაშვილი')\n",
    "print_two_again('დათუნაშვილი', 'დავითი')\n",
    "print_one('კახელი')\n",
    "print_none()\n",
    "    \n",
    "    \n"
   ]
  },
  {
   "cell_type": "code",
   "execution_count": null,
   "metadata": {},
   "outputs": [],
   "source": [
    "'კეთილი მანტიორი'\n",
    "'''\n",
    "syntax: რიცხვით ნუიწყებ!\n",
    "def 2function(a): <\n",
    "    print(a+a)\n",
    "function(1)\n",
    "\n",
    "'''"
   ]
  },
  {
   "cell_type": "code",
   "execution_count": null,
   "metadata": {},
   "outputs": [],
   "source": [
    "'''\n",
    "syntax: სადაა ორი წერტილი?\n",
    "def function(a)  <\n",
    "    print(a+a)\n",
    "function(1)\n",
    "'''"
   ]
  },
  {
   "cell_type": "code",
   "execution_count": null,
   "metadata": {},
   "outputs": [],
   "source": [
    "'''\n",
    "syntax: სადაა ფრჩხილები?\n",
    "def function a:  <\n",
    "    print(a+a)\n",
    "function(1)\n",
    "'''\n"
   ]
  },
  {
   "cell_type": "code",
   "execution_count": null,
   "metadata": {},
   "outputs": [],
   "source": [
    "'''\n",
    "Indent: ველოდებოდი არგუმენტს არაა არგუმენტი\n",
    "def function a:\n",
    "print(a+a)   <\n",
    "function(1)\n",
    "'''"
   ]
  },
  {
   "cell_type": "code",
   "execution_count": null,
   "metadata": {},
   "outputs": [],
   "source": [
    "'''\n",
    "Indent: ველოდებოდი არგუმენტს არაა არგუმენტი\n",
    "def function a:\n",
    "    print(a+a)\n",
    "    >    print(a+a)\n",
    "function(1)\n",
    "'''"
   ]
  },
  {
   "cell_type": "code",
   "execution_count": null,
   "metadata": {},
   "outputs": [
    {
     "name": "stdout",
     "output_type": "stream",
     "text": [
      "შეყვანე რიცხვი: 2\n",
      "4\n",
      "შეყვანე რიცხვი: 5\n",
      "25\n",
      "შეყვანე რიცხვი: ა\n",
      "*ასოა და რიცხვი უნდა შეიყვანო*\n",
      "შეყვანე რიცხვი: 21\n",
      "441\n"
     ]
    }
   ],
   "source": [
    "\n",
    "# 1. \n",
    "\n",
    "def კვადრატი():\n",
    "    a=int(input('შეყვანე რიცხვი: '))\n",
    "    try:\n",
    "        a=a**2\n",
    "        print(a)\n",
    "        კვადრატი()\n",
    "    except:\n",
    "        print('**ასოა და რიცხვი უნდა შეიყვანო**')\n",
    "        კვადრატი()\n",
    "კვადრატი()\n",
    "# როგორ გავარკვიო რომელია ცვლადი\n",
    "'''\n",
    "if type(a) is int:\n",
    "    print('ბიჭია ბიჭიი')\n",
    "else:\n",
    "    print('გოგოა გოგოგოო')\n",
    "'''\n",
    "    \n",
    "# 2\n",
    "''' \n",
    "y=yes n=no\n",
    "1. y \n",
    "2. y\n",
    "3. y\n",
    "4. y\n",
    "5. y\n",
    "6. y\n",
    "7. n\n",
    "8. y\n",
    "'''\n",
    "# 3\n",
    "# 4 yes\n",
    "# 5 yes\n",
    "# 6 yes\n",
    "# 7 yes"
   ]
  }
 ],
 "metadata": {
  "kernelspec": {
   "display_name": "Python 3",
   "language": "python",
   "name": "python3"
  }
 },
 "nbformat": 4,
 "nbformat_minor": 4
}
