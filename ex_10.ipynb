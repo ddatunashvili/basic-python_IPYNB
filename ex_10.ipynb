{
 "cells": [
  {
   "cell_type": "code",
   "execution_count": 36,
   "metadata": {},
   "outputs": [
    {
     "name": "stdout",
     "output_type": "stream",
     "text": [
      "რაც მოგივა 'დავითაო' ყველა შენი თავითაო\n"
     ]
    }
   ],
   "source": [
    "# სლაშის გამოყენება\n",
    "print(\"რაც მოგივა \\'დავითაო\\' ყველა შენი თავითაო\")"
   ]
  },
  {
   "cell_type": "code",
   "execution_count": 25,
   "metadata": {},
   "outputs": [
    {
     "name": "stdout",
     "output_type": "stream",
     "text": [
      "რაც მოგივა 'დავითაო' ყველა შენი თავითაო\n"
     ]
    }
   ],
   "source": [
    "#  Single-quote - (’)\n",
    "print(\"რაც მოგივა 'დავითაო' ყველა შენი თავითაო\")"
   ]
  },
  {
   "cell_type": "code",
   "execution_count": 26,
   "metadata": {},
   "outputs": [
    {
     "name": "stdout",
     "output_type": "stream",
     "text": [
      "რაც მოგივა \"დავითაო\" ყველა შენი თავითაო\n"
     ]
    }
   ],
   "source": [
    "# Double-quote - (”)\n",
    "print('რაც მოგივა \"დავითაო\" ყველა შენი თავითაო')"
   ]
  },
  {
   "cell_type": "code",
   "execution_count": 37,
   "metadata": {},
   "outputs": [
    {
     "name": "stdout",
     "output_type": "stream",
     "text": [
      "რაც მოგივა \u0007დავითაო\u0007 ყველა შენი თავითაო\n"
     ]
    }
   ],
   "source": [
    "#  \\a \n",
    "print('რაც მოგივა \\aდავითაო\\a ყველა შენი თავითაო')"
   ]
  },
  {
   "cell_type": "code",
   "execution_count": 38,
   "metadata": {},
   "outputs": [
    {
     "ename": "SyntaxError",
     "evalue": "invalid syntax (<ipython-input-38-ee5ffe5f7a53>, line 2)",
     "output_type": "error",
     "traceback": [
      "\u001b[1;36m  File \u001b[1;32m\"<ipython-input-38-ee5ffe5f7a53>\"\u001b[1;36m, line \u001b[1;32m2\u001b[0m\n\u001b[1;33m    print(\"რაც მოგივა \\b \"დავითაო' \\b ყველა შენი თავითაო\")\u001b[0m\n\u001b[1;37m                          ^\u001b[0m\n\u001b[1;31mSyntaxError\u001b[0m\u001b[1;31m:\u001b[0m invalid syntax\n"
     ]
    }
   ],
   "source": [
    "#  \\a \n",
    "print(\"რაც მოგივა \\b'დავითაო' \\b ყველა შენი თავითაო\")"
   ]
  },
  {
   "cell_type": "code",
   "execution_count": 21,
   "metadata": {},
   "outputs": [
    {
     "data": {
      "text/plain": [
       "'კეთილი მანტიორი'"
      ]
     },
     "execution_count": 21,
     "metadata": {},
     "output_type": "execute_result"
    }
   ],
   "source": [
    "'კეთილი მანტიორი'\n"
   ]
  },
  {
   "cell_type": "code",
   "execution_count": null,
   "metadata": {},
   "outputs": [],
   "source": []
  }
 ],
 "metadata": {
  "kernelspec": {
   "display_name": "Python 3",
   "language": "python",
   "name": "python3"
  },
  "language_info": {
   "codemirror_mode": {
    "name": "ipython",
    "version": 3
   },
   "file_extension": ".py",
   "mimetype": "text/x-python",
   "name": "python",
   "nbconvert_exporter": "python",
   "pygments_lexer": "ipython3",
   "version": "3.8.3"
  }
 },
 "nbformat": 4,
 "nbformat_minor": 4
}
