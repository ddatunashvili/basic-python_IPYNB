{
 "cells": [
  {
   "cell_type": "code",
   "execution_count": 2,
   "metadata": {},
   "outputs": [
    {
     "data": {
      "text/plain": [
       "'ერთ ხაზზე გაძლევს კოდის დაწერის საშუალებას'"
      ]
     },
     "execution_count": 2,
     "metadata": {},
     "output_type": "execute_result"
    }
   ],
   "source": [
    "    'სიმბოლოები და საკვანძო სიტყვები'\n",
    "# assert --> assert False, 'Error!'\n",
    "'ამოწმებს პირობას'\n",
    "# exec --> exec 'print('hello world')'  ==== try\n",
    "'გაუშვებს სტრიქონს'\n",
    "# is --> 1 is 1 == true\n",
    "'იგივერაც == შემოწმება'\n",
    "# raise --> raise ValueError('No')\n",
    "'გამონაკლისის შემოტანა თუ არასწორად მუშაობს კოდი'\n",
    "# with --> with X as Y: pass\n",
    "'გამონაკლის შემთხვევაში შეასრულე'\n",
    "# yield --> def X(): yieldY; X().next()\n",
    "'გაჭერი აქ და დაუბრუნდი გამომძახებელი'\n",
    "    'ოპერატორები'\n",
    "# @ ---> @clasmethod\n",
    "'კლასის მეთოდის გამოძახება'\n",
    "# ; --> print('a'); print('b'); print('c')\n",
    "'ერთ ხაზზე გაძლევს კოდის დაწერის საშუალებას'"
   ]
  },
  {
   "cell_type": "code",
   "execution_count": 1,
   "metadata": {},
   "outputs": [
    {
     "name": "stdout",
     "output_type": "stream",
     "text": [
      "s\n",
      "we\n"
     ]
    }
   ],
   "source": []
  }
 ],
 "metadata": {
  "kernelspec": {
   "display_name": "Python 3",
   "language": "python",
   "name": "python3"
  },
  "language_info": {
   "codemirror_mode": {
    "name": "ipython",
    "version": 3
   },
   "file_extension": ".py",
   "mimetype": "text/x-python",
   "name": "python",
   "nbconvert_exporter": "python",
   "pygments_lexer": "ipython3",
   "version": "3.8.5"
  }
 },
 "nbformat": 4,
 "nbformat_minor": 4
}
