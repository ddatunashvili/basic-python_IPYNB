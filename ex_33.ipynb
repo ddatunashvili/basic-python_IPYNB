{
 "cells": [
  {
   "cell_type": "code",
   "execution_count": 16,
   "metadata": {},
   "outputs": [
    {
     "name": "stdout",
     "output_type": "stream",
     "text": [
      "[0, 1, 1, 2, 3, 5, 8, 13, 21, 34, 55, 89, 144, 233, 377, 610, 987, 1597, 2584, 4181]\n"
     ]
    }
   ],
   "source": [
    "'while ციკლი'\n",
    "# ფიბონაჩის მიმდევრობის აწყობა\n",
    "ზომა = 20\n",
    "# პირველი ორი წევრი\n",
    "a=0\n",
    "b=1\n",
    "ცდა= 0\n",
    "სია=[]\n",
    "while ცდა < ზომა:\n",
    "    სია.append(a)\n",
    "    n = a + b  #  0+1=1 ახალი წევრი, წინა ორი წევრის ჯამი\n",
    "    a = b # 0=0 პირველი წევრი ხდება მეორე\n",
    "    b = n # 0=1 მეორე წევრი ხდება ახალი წევრი\n",
    "    ცდა += 1\n",
    "print(სია)"
   ]
  }
 ],
 "metadata": {
  "kernelspec": {
   "display_name": "Python 3",
   "language": "python",
   "name": "python3"
  },
  "language_info": {
   "codemirror_mode": {
    "name": "ipython",
    "version": 3
   },
   "file_extension": ".py",
   "mimetype": "text/x-python",
   "name": "python",
   "nbconvert_exporter": "python",
   "pygments_lexer": "ipython3",
   "version": "3.8.5"
  }
 },
 "nbformat": 4,
 "nbformat_minor": 4
}
