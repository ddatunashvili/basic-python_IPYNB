{
 "cells": [
  {
   "cell_type": "code",
   "execution_count": null,
   "metadata": {},
   "outputs": [],
   "source": [
    "'is-a,has-a, ობიქტები და კლასები'\n",
    "# კლასი თევზი არ არის ქაშაყი  (ცხოვრობს წყალში) - კლასი\n",
    "# კლასი ქაშაყი არის თევზი [არის](ტიპი) - (კლასის მემკვიდრე) - სახეობა,ტიპი\n",
    "# კლასი ერთი აღებული ქაშაყი [აქვს]  (წევრი) - ობიექტი"
   ]
  },
  {
   "cell_type": "code",
   "execution_count": 1,
   "metadata": {},
   "outputs": [
    {
     "data": {
      "text/plain": [
       "'აქვს has-a - კლასი ან ობიექტი, დაკავშირებულია მიმართებით (reference)'"
      ]
     },
     "execution_count": 1,
     "metadata": {},
     "output_type": "execute_result"
    }
   ],
   "source": [
    "'არის is-a - კლასი ან ობიექტი, დაკავშირებულია ტიპით'\n",
    "'აქვს has-a - კლასი ან ობიექტი, დაკავშირებულია მიმართებით (reference)'"
   ]
  },
  {
   "cell_type": "code",
   "execution_count": 21,
   "metadata": {},
   "outputs": [
    {
     "name": "stdout",
     "output_type": "stream",
     "text": [
      "True\n",
      "True\n",
      "True\n"
     ]
    }
   ],
   "source": [
    "# თევზების კლასი ობიექტი\n",
    "class თევზები(object):\n",
    "    pass\n",
    "# ქაშაყი არის თევზი\n",
    "class ქაშაყი(თევზები):\n",
    "    def __init__(self,სახელი):\n",
    "        # ქაშაყს აქვს სახელი\n",
    "        self.სახელი = სახელი\n",
    "# ლოქოს სახეობა\n",
    "class ლოქო(თევზები):\n",
    "    def __init__(self,სახელი):\n",
    "        # ლოქოს აქვს სახელი\n",
    "        self.სახელი = სახელი\n",
    "# ადამიანი არის ობიექტი\n",
    "class ადამიანი(object):    # super ით აქვს მუშის __init__ ფუნქცია\n",
    "    def __init__(self,სახელი):\n",
    "        # ადამიანს აქვს სახელი\n",
    "        self.სახელი = სახელი\n",
    "# მუშას აქვს ადამიანის თვისებები    \n",
    "class მუშა(ადამიანი):\n",
    "    def __init__(self,სახელი,ხელფასი):\n",
    "        super(მუშა,self).__init__(სახელი) # იგივე იყოს რაც def __init__(self,სახელი):\n",
    "        # მუშას აქვს ხელფასი\n",
    "        self.ხელფასი = ხელფასი\n",
    "# ცხოველების ტიპი\n",
    "class ცხოველი(object):\n",
    "    pass\n",
    "# ძაღლი არის\n",
    "class ძაღლი(ცხოველი):\n",
    "    pass\n",
    "# როვერი არის ქაშაყი     \n",
    "როვერი = ქაშაყი('როვერი')\n",
    "# ბურდულა არის ლოქო\n",
    "ბურდულა = ლოქო('ბურდულა')\n",
    "# დავითი არის ადამიანი\n",
    "დავითი = ადამიანი('დავითი')\n",
    "# დავითს აქვს ლოქო, ატრიბუტით კერძის\n",
    "დავითი.კერძი = ლოქო\n",
    "# გიო\n",
    "გიო = მუშა('გიო','12ლ')\n",
    "# გიოს აქვ ქაშაყი, ატრიბუტით კერძი\n",
    "გიო.კერძი = ქაშაყი\n",
    "# ეკა არის ცხოველი\n",
    "ეკა = ცხოველი()\n",
    "# ალიკა არის ძაღლი\n",
    "ალიკა = ძაღლი ()\n",
    "# შემოწმება\n",
    "print(isinstance(თევზები, object)) # ობიექტია (არის)\n",
    "print(issubclass( მუშა, ადამიანი)) # მუშა ადამიანის მემკვიდრეა (აქვს)\n",
    "print(isinstance( ადამიანი, object)) # ობიექტია (არის)"
   ]
  }
 ],
 "metadata": {
  "kernelspec": {
   "display_name": "Python 3",
   "language": "python",
   "name": "python3"
  },
  "language_info": {
   "codemirror_mode": {
    "name": "ipython",
    "version": 3
   },
   "file_extension": ".py",
   "mimetype": "text/x-python",
   "name": "python",
   "nbconvert_exporter": "python",
   "pygments_lexer": "ipython3",
   "version": "3.8.5"
  }
 },
 "nbformat": 4,
 "nbformat_minor": 4
}
