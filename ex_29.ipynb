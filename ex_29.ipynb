{
 "cells": [
  {
   "cell_type": "code",
   "execution_count": null,
   "metadata": {},
   "outputs": [
    {
     "name": "stdout",
     "output_type": "stream",
     "text": [
      "გინდა თამაში? (yes/no)yes\n",
      "შენ მიხვედი საზღვართან, საით წახვალ? (left/right)left\n",
      "მონსტრმა დაგინახა და გამოგეკიდა, დასცხობ თუ გაიქცევი? (attack/run)run\n",
      "კარგი არჩევანია,თავი დააღწიე.\n",
      "ხედავ თვითმფრინავს და მანქანას. რომელს აირჩევ წასასვლელად?  (car/plane)plane\n",
      "სად იცი თვითმფრინავის მართვა,წააგე!\n",
      "გინდა თამაში? (yes/no)yes\n"
     ]
    }
   ],
   "source": [
    "'სთორითელინგის თამაში'\n",
    "while True:\n",
    "    answer=input(\"გინდა თამაში? (yes/no)\").lower().strip()\n",
    "    # ერთერთი ვარიაცია დაწერეს იმუშავებს\n",
    "    if answer.lower().strip() == \"yes\":\n",
    "\n",
    "        answer=input(\"შენ მიხვედი საზღვართან, საით წახვალ? (left/right)\").lower().strip()\n",
    "\n",
    "        if answer==\"left\":\n",
    "            answer=input(\"მონსტრმა დაგინახა და გამოგეკიდა, დასცხობ თუ გაიქცევი? (attack/run)\").lower().strip()\n",
    "            if answer ==\"attack\":\n",
    "                print(\"ცუდი აზრი იყო, წააგე!\")\n",
    "            else:\n",
    "                print(\"კარგი არჩევანია,თავი დააღწიე.\")\n",
    "                answer==input(\"ხედავ თვითმფრინავს და მანქანას. რომელს აირჩევ წასასვლელად?  (car/plane)\")\n",
    "                if answer==\"car\":\n",
    "                    print(\"გაიმარჯვე!\")\n",
    "\n",
    "                else:\n",
    "                    print(\"სად იცი თვითმფრინავის მართვა,წააგე!\")\n",
    "        elif answer==\"right\":\n",
    "            print(\"შენ დაიკარგე. წააგე!\")\n",
    "\n",
    "        else:\n",
    "            print(\"არასწორი არჩევანი,წააგე!\")\n",
    "\n",
    "\n",
    "    else:\n",
    "        print(\"ძალიან ცუდი! \")\n",
    "        break\n"
   ]
  },
  {
   "cell_type": "code",
   "execution_count": null,
   "metadata": {},
   "outputs": [],
   "source": []
  }
 ],
 "metadata": {
  "kernelspec": {
   "display_name": "Python 3",
   "language": "python",
   "name": "python3"
  },
  "language_info": {
   "codemirror_mode": {
    "name": "ipython",
    "version": 3
   },
   "file_extension": ".py",
   "mimetype": "text/x-python",
   "name": "python",
   "nbconvert_exporter": "python",
   "pygments_lexer": "ipython3",
   "version": "3.8.5"
  }
 },
 "nbformat": 4,
 "nbformat_minor": 4
}
