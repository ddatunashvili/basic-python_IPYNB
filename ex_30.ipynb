{
 "cells": [
  {
   "cell_type": "code",
   "execution_count": 1,
   "metadata": {},
   "outputs": [
    {
     "name": "stdout",
     "output_type": "stream",
     "text": [
      "Chawere savaraudo ricxvi (0/100) 50\n",
      "magalia\n",
      "Chawere savaraudo ricxvi (0/100) 60\n",
      "magalia\n",
      "Chawere savaraudo ricxvi (0/100) 70\n",
      "dabalia\n",
      "Chawere savaraudo ricxvi (0/100) 67\n",
      "dabalia\n",
      "Chawere savaraudo ricxvi (0/100) 66\n",
      "dabalia\n",
      "Chawere savaraudo ricxvi (0/100) 65\n",
      "yochag shen gamoicani 6 cdashi\n",
      "kidev ginda tamashi? (ki/ara)არა\n",
      "warmatebebs gisurveb\n"
     ]
    }
   ],
   "source": [
    "'თამაში რიცხვობანა'\n",
    "import random\n",
    "cda=1 # პირველი კრუგი ცდად ითვლება\n",
    "rnd=random.randint(0,100) # რენდომ ირჩევს რიცხვს\n",
    "# ციკლი იწყება\n",
    "while True:\n",
    "    ricxvi=input(\"Chawere savaraudo ricxvi (0/100) \")\n",
    "    # შეგყავს ვერსია\n",
    "    try: # ამოწმებს რიცხვი ჩაწერე თუ სხვა სიმბოლო\n",
    "        ricxvi=int(ricxvi)\n",
    "    except:\n",
    "        print(\"shecdoma, tavidan sheiyvane. \")\n",
    "        continue # თუ შეცდომაა პროცესი,ციკლი იწყება თავიდან\n",
    "    if rnd==ricxvi: # თუ რიცხვი დაემთხვა\n",
    "        print(f'yochag shen gamoicani {cda} cdashi')\n",
    "        # გთხოვს უპასუხო\n",
    "        pasuxi=input(\"kidev ginda tamashi? (ki/ara)\")\n",
    "        if pasuxi==\"ki\":\n",
    "            continue # კი მაშინ პროცესი იწყება თავიდან\n",
    "        else :\n",
    "            print(\"warmatebebs gisurveb\")\n",
    "            break # სხვა პასუხზე პროცესი წყდება\n",
    "    elif rnd > ricxvi: # თუ ჩაფიქრებული მაღალი რიცხვია\n",
    "        print(\"magalia\")\n",
    "        cda=cda+1 # ცდად ითვლება და პროცესი თავიდან იწყება\n",
    "    elif rnd<ricxvi: # თუ ჩაფიქრებული დაბალი რიცხვია\n",
    "        print('dabalia')\n",
    "        cda +=1 # ცდად ითვლება და პროცესი თავიდან იწყება\n"
   ]
  },
  {
   "cell_type": "code",
   "execution_count": null,
   "metadata": {},
   "outputs": [],
   "source": []
  }
 ],
 "metadata": {
  "kernelspec": {
   "display_name": "Python 3",
   "language": "python",
   "name": "python3"
  },
  "language_info": {
   "codemirror_mode": {
    "name": "ipython",
    "version": 3
   },
   "file_extension": ".py",
   "mimetype": "text/x-python",
   "name": "python",
   "nbconvert_exporter": "python",
   "pygments_lexer": "ipython3",
   "version": "3.8.5"
  }
 },
 "nbformat": 4,
 "nbformat_minor": 4
}
