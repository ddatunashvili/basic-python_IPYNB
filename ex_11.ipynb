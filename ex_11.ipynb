{
 "cells": [
  {
   "cell_type": "code",
   "execution_count": 1,
   "metadata": {},
   "outputs": [
    {
     "name": "stdout",
     "output_type": "stream",
     "text": [
      "ვისი ბიჭი ხარ? 1\n",
      "რა ცხოვრებით ცხოვრობ? 1\n",
      "კაიბიჭობა თუ ტორტი? 1\n",
      "ვაა შენ 1 ხარ ტო, ანუ 1თ ცხოვრობ და  1 აირჩიე?!.\n",
      "შენი ფანტაზიორი...\n"
     ]
    }
   ],
   "source": [
    "# გაარკვიე წარმომავლობა\n",
    "print(\"ვისი ბიჭი ხარ?\", end=' ')\n",
    "აღზრდა = input()\n",
    "# გაარკვიე მიზანი\n",
    "print(\"რა ცხოვრებით ცხოვრობ?\", end=' ')\n",
    "ცხოვრება = input()\n",
    "# შეამოწმე მიზანი\n",
    "print(\"კაიბიჭობა თუ ტორტი?\", end=' ')\n",
    "კაცობა = input()\n",
    "# დასკვნა გააკეთე\n",
    "print(f\"ვაა შენ {აღზრდა} ხარ ტო, ანუ {ცხოვრება}თ ცხოვრობ და  {კაცობა} აირჩიე?!.\")\n",
    "if კაცობა== 'ტორტი':\n",
    "    print('კაი ჩემო ძმაო გასაგებია ყოლიფერი')\n",
    "else: \n",
    "    print('შენი ფანტაზიორი...')"
   ]
  },
  {
   "cell_type": "code",
   "execution_count": 2,
   "metadata": {},
   "outputs": [
    {
     "name": "stdout",
     "output_type": "stream",
     "text": [
      "შეიყვანე რიცხვი1\n"
     ]
    },
    {
     "data": {
      "text/plain": [
       "2"
      ]
     },
     "execution_count": 2,
     "metadata": {},
     "output_type": "execute_result"
    }
   ],
   "source": [
    "'კეთილი მანტიორი'\n",
    "'''\n",
    "Type: input() ამაში მარტო სტრინგები შედის და ინტი არერგება\n",
    "input('შეიყვანე რიცხვი')\n",
    "რიცხვი+1\n",
    "'''\n",
    "# ინტი მოარგე ინპუტას\n",
    "რიცხვი=int(input('შეიყვანე რიცხვი'))\n",
    "რიცხვი+1"
   ]
  },
  {
   "cell_type": "code",
   "execution_count": 3,
   "metadata": {},
   "outputs": [
    {
     "name": "stdout",
     "output_type": "stream",
     "text": [
      "1\n"
     ]
    },
    {
     "data": {
      "text/plain": [
       "str"
      ]
     },
     "execution_count": 3,
     "metadata": {},
     "output_type": "execute_result"
    }
   ],
   "source": [
    "'''\n",
    "age = input()\n",
    "type(age)\n",
    "'''\n",
    "'რას უყურებ სტრინგია ბიჭოოო'\n",
    "age = input()\n",
    "type(age)"
   ]
  },
  {
   "cell_type": "code",
   "execution_count": 6,
   "metadata": {},
   "outputs": [
    {
     "name": "stdout",
     "output_type": "stream",
     "text": [
      "შეიყვანე წელი1\n",
      "1\n"
     ]
    }
   ],
   "source": [
    "'მე პითონი ვარ თუ პროპკა, ზედმეტი ცვლადი ხომ არ მოგდის'\n",
    "'''\n",
    "value: სამი გამიკეთეო და ერთი მომეცი, ერთით სამი როგორ გავაკეთო\n",
    "age, height, weight = input('')\n",
    "print(age, height, weight)\n",
    "'''\n",
    "# დავიღალე და ნუ მაწვალებ, იუპიტერი ვარ ვიესკოდი კიარა\n",
    "age = input('შეიყვანე წელი: ')\n",
    "print(age)"
   ]
  },
  {
   "cell_type": "code",
   "execution_count": 11,
   "metadata": {},
   "outputs": [
    {
     "name": "stdout",
     "output_type": "stream",
     "text": [
      "შეიყვანე int ტიპი: 1\n",
      "შენი შეყვანილი int გახდა სტრინგი და მერე გახდა <class 'float'>\n"
     ]
    }
   ],
   "source": [
    "'''\n",
    "Attribute: მე სტრინგივარ და ძალას (ინპუტს) ვერ გამოიყენებ ჩემზე\n",
    "age =''\n",
    "age.input(20)\n",
    "'''\n",
    "# ტიპის ცვლილება\n",
    "age = x = float(input('შეიყვანე int ტიპი: '))\n",
    "print('შენი შეყვანილი int გახდა სტრინგი და მერე გახდა', type(x))"
   ]
  },
  {
   "cell_type": "code",
   "execution_count": 13,
   "metadata": {},
   "outputs": [
    {
     "name": "stdout",
     "output_type": "stream",
     "text": [
      "რომელ წელს ხარ დაბადებული? :1998\n",
      "შენ ხარ 22 წლის ჩერჩეტი\n"
     ]
    }
   ],
   "source": [
    "'ჩემი ვარიანტი'\n",
    "birth_year = int(input('რომელ წელს ხარ დაბადებული? :'))\n",
    "age = 2020 - birth_year\n",
    "print(f\"შენ ხარ {age} წლის ჩერჩეტი\")\n"
   ]
  },
  {
   "cell_type": "code",
   "execution_count": null,
   "metadata": {},
   "outputs": [],
   "source": []
  }
 ],
 "metadata": {
  "kernelspec": {
   "display_name": "Python 3",
   "language": "python",
   "name": "python3"
  },
  "language_info": {
   "codemirror_mode": {
    "name": "ipython",
    "version": 3
   },
   "file_extension": ".py",
   "mimetype": "text/x-python",
   "name": "python",
   "nbconvert_exporter": "python",
   "pygments_lexer": "ipython3",
   "version": "3.8.3"
  }
 },
 "nbformat": 4,
 "nbformat_minor": 4
}
