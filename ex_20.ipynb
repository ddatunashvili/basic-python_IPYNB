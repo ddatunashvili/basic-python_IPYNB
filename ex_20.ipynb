{
 "cells": [
  {
   "cell_type": "code",
   "execution_count": 1,
   "metadata": {},
   "outputs": [
    {
     "ename": "SyntaxError",
     "evalue": "unexpected EOF while parsing (<ipython-input-1-041ffcd248f3>, line 48)",
     "output_type": "error",
     "traceback": [
      "\u001b[1;36m  File \u001b[1;32m\"<ipython-input-1-041ffcd248f3>\"\u001b[1;36m, line \u001b[1;32m48\u001b[0m\n\u001b[1;33m    \u001b[0m\n\u001b[1;37m    ^\u001b[0m\n\u001b[1;31mSyntaxError\u001b[0m\u001b[1;31m:\u001b[0m unexpected EOF while parsing\n"
     ]
    }
   ],
   "source": [
    "'ფუნქციები და ფაილები'\n",
    "'''\n",
    "აქ იქნება გამოყენებული argv \n",
    "რომელსაც აქვს ფუნქცია მივაწოდოთ არგუმენტები\n",
    "-----------------------\n",
    ">> საჭიროა ორი არგუმენტი ორი ფაილი \n",
    "> python ex_20 'input_file name'\n",
    "argv = 'input_file name' \n",
    "argv ასევე მინიჭებულია სკრიპტის ცვლადი\n",
    "<> გაშვების მაგალითი <>\n",
    "python ex_20.py test.txt\n",
    "=======================\n",
    "ამ ორ ცვლადის მეშვეობით მოხდება\n",
    "ერთი ფაილის კოდის გამოყენება მეორე ფაილისათვის\n",
    "'''\n",
    "'''\n",
    "მოცემულია ფუნქციები და f ს იყენებს ფაილის მიწოდებისას\n",
    "ფაილის ცვლადი = f\n",
    "'''\n",
    "# სისტემიდან შემოგვაქვს არგუმენტ ვარიებლის\n",
    "from sys import argv\n",
    "script,input_file= argv\n",
    "# ბეჭდვის ფუნქცია \n",
    "def print_all(f):\n",
    "#     წაიკითხე F და დაბეჭდე\n",
    "    print(f.read())\n",
    "# უკან გადახვევის ფუნქცია \n",
    "# seek არის ძიების ფუნქცია\n",
    "def rewind(f):\n",
    "#     გადაახვიე 0 მდე\n",
    "    f.seek(0) # ბაიტების მნიშვნელობა 0\n",
    "# ხაზების გამოტანა\n",
    "def print_a_line(line_count,f):\n",
    "#     დაბეჭდე ხაზის რიცხვი და დაბეჭდე მოცემული ხაზი\n",
    "    print(line_count, f.readline())\n",
    "# ფაილი = გახსნა(შეყვანილი ფაილი, პარამეტრი 'utf8')\n",
    "current_file = open(input_file, encoing='utf8')\n",
    "# ბეჭდვის ფუნქციას მიაწოდე ფაილი\n",
    "print_all(current_file)\n",
    "# გადახვევის ფუნქციას მიაწოდე ფაილი\n",
    "rewind(current_file)\n",
    "# საწყისი ხაზი \n",
    "current_line = 1\n",
    "# ხაზის ბეჭდვას მიაწოდე ფაილი და საწყისი ხაზი\n",
    "print_a_line(current_line, current_file)\n",
    "# ხაზის რაოდენობა გაზარდე\n",
    "current_line += 1\n",
    "# ხაზის ბეჭდვას მიაწოდე ფაილი და მოცემული ხაზის ოდენობა\n",
    "print_a_line(current_line,current_file)\n",
    "# ხაზის რაოდენობა გაზარდე\n",
    "current_line += 1\n",
    "# ხაზის ბეჭდვას მიაწოდე ფაილი და მოცემული ხაზის ოდენობა\n",
    "print_a_line(current_line, current_file\n",
    "\n",
    "\n"
   ]
  },
  {
   "cell_type": "code",
   "execution_count": null,
   "metadata": {},
   "outputs": [],
   "source": []
  }
 ],
 "metadata": {
  "kernelspec": {
   "display_name": "Python 3",
   "language": "python",
   "name": "python3"
  },
  "language_info": {
   "codemirror_mode": {
    "name": "ipython",
    "version": 3
   },
   "file_extension": ".py",
   "mimetype": "text/x-python",
   "name": "python",
   "nbconvert_exporter": "python",
   "pygments_lexer": "ipython3",
   "version": "3.8.5"
  }
 },
 "nbformat": 4,
 "nbformat_minor": 4
}
