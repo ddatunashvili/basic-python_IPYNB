{
 "cells": [
  {
   "cell_type": "code",
   "execution_count": 1,
   "metadata": {},
   "outputs": [
    {
     "data": {
      "text/plain": [
       "'\\nclass - კლასის შექმნა\\nobject - ბაზისური ტიპი და ამ ტიპის ნებისმიერი მნიშვნელობა\\ninstance - არსება\\ndef - ფუნქცია\\nself - ფუნქციის შემადგენელი, წვდომას გვაძლევს კლასის ობიექტსა და სტრუქტურაზე\\ninheritance - მემკვიდრეობა კლასებს შორის\\ncomposition - კლასების კუთვნილება. მანქანას აქვს ბორბლები\\nattribute - თვისება აქვს კლასს, ცვლადის სახით\\nis-a - ქაშაყი is-a თევზი. მემკვიდრეა\\nhas-a - ქაშაყვს has-a თვალები. თვისებას შეიცავს\\n'"
      ]
     },
     "execution_count": 1,
     "metadata": {},
     "output_type": "execute_result"
    }
   ],
   "source": [
    "'oop დამახასიათებელი ტერმინოლოგიები'\n",
    "# სიტყვები\n",
    "'''\n",
    "class - კლასის შექმნა\n",
    "object - ბაზისური ტიპი და ამ ტიპის ნებისმიერი მნიშვნელობა\n",
    "instance - არსება\n",
    "def - ფუნქცია\n",
    "self - ფუნქციის შემადგენელი, წვდომას გვაძლევს კლასის ობიექტსა და სტრუქტურაზე\n",
    "inheritance - მემკვიდრეობა კლასებს შორის\n",
    "composition - კლასების კუთვნილება. მანქანას აქვს ბორბლები\n",
    "attribute - თვისება აქვს კლასს, ცვლადის სახით\n",
    "is-a - ქაშაყი is-a თევზი. მემკვიდრეა\n",
    "has-a - ქაშაყვს has-a თვალები. თვისებას შეიცავს\n",
    "'''"
   ]
  },
  {
   "cell_type": "code",
   "execution_count": 15,
   "metadata": {},
   "outputs": [
    {
     "ename": "TypeError",
     "evalue": "__init__() missing 1 required positional argument: 'j'",
     "output_type": "error",
     "traceback": [
      "\u001b[1;31m---------------------------------------------------------------------------\u001b[0m",
      "\u001b[1;31mTypeError\u001b[0m                                 Traceback (most recent call last)",
      "\u001b[1;32m<ipython-input-15-1fa6c50ebcf5>\u001b[0m in \u001b[0;36m<module>\u001b[1;34m\u001b[0m\n\u001b[0;32m     34\u001b[0m     \u001b[1;32mdef\u001b[0m \u001b[0mM\u001b[0m\u001b[1;33m(\u001b[0m\u001b[0mself\u001b[0m\u001b[1;33m,\u001b[0m\u001b[0mj\u001b[0m\u001b[1;33m)\u001b[0m\u001b[1;33m:\u001b[0m\u001b[1;33m\u001b[0m\u001b[1;33m\u001b[0m\u001b[0m\n\u001b[0;32m     35\u001b[0m         \u001b[1;32mpass\u001b[0m\u001b[1;33m\u001b[0m\u001b[1;33m\u001b[0m\u001b[0m\n\u001b[1;32m---> 36\u001b[1;33m \u001b[0mfoo\u001b[0m \u001b[1;33m=\u001b[0m \u001b[0mX\u001b[0m\u001b[1;33m(\u001b[0m\u001b[1;33m)\u001b[0m\u001b[1;33m\u001b[0m\u001b[1;33m\u001b[0m\u001b[0m\n\u001b[0m\u001b[0;32m     37\u001b[0m \u001b[0mfoo\u001b[0m\u001b[1;33m.\u001b[0m\u001b[0mM\u001b[0m\u001b[1;33m(\u001b[0m\u001b[0mj\u001b[0m\u001b[1;33m)\u001b[0m\u001b[1;33m\u001b[0m\u001b[1;33m\u001b[0m\u001b[0m\n\u001b[0;32m     38\u001b[0m \u001b[0mfoo\u001b[0m\u001b[1;33m.\u001b[0m\u001b[0mK\u001b[0m \u001b[1;33m=\u001b[0m \u001b[0mQ\u001b[0m\u001b[1;33m\u001b[0m\u001b[1;33m\u001b[0m\u001b[0m\n",
      "\u001b[1;31mTypeError\u001b[0m: __init__() missing 1 required positional argument: 'j'"
     ]
    }
   ],
   "source": [
    "#                                 ფრაზები\n",
    "# შექმენი კლასი სახელად X, რომელიც არის (is-a) Y.\n",
    "'''\n",
    "class Y():\n",
    "    pass\n",
    "class X(Y):\n",
    "    pass\n",
    "'''\n",
    "# კლას X აქვს (has-a) __init__, რომელიც ღებულობს self-ს და J-ს პარამეტრებად.\n",
    "'''\n",
    "class X(object):\n",
    "    def __init__(self,J)\n",
    "'''\n",
    "# კლასს X აქვს (has-a) ფუნქცია M, რომელიც ღებულობს self-ს და J-ს პარამეტრებად.\n",
    "'''\n",
    "class X(object):\n",
    "    def M(self,J)\n",
    "'''\n",
    "# დავაწესოთ (instance) foo კლასი X-ის შესაქმნელად.\n",
    "'''\n",
    "foo = X()\n",
    "'''\n",
    "# foo-დან აიღე ფუნქცია M და გამოიძახე ის self და J პარამეტრებით.\n",
    "'''\n",
    "foo.M(J)\n",
    "'''\n",
    "# foo-დან აიღე K ატრიბუტი და მიანიჭე M.\n",
    "'''\n",
    "foo.K = Q\n",
    "'''\n",
    "class X(object):\n",
    "    def __init__(self,j):\n",
    "        pass\n",
    "    def M(self,j):\n",
    "        pass\n",
    "foo = X()\n",
    "foo.M(j)\n",
    "foo.K = Q"
   ]
  },
  {
   "cell_type": "code",
   "execution_count": null,
   "metadata": {},
   "outputs": [],
   "source": [
    "import random\n",
    "from urllib.request import urlopen\n",
    "import sys\n",
    "\n",
    "WORD_URL = \"http://learncodethehardway.org/words.txt\"\n",
    "WORDS = []\n",
    "\n",
    "PHRASES = {\n",
    "    \"class %%%(%%%):\":                                 \"Make a class named %%% that is-a %%%.\",\n",
    "    \"class %%%(object):\\n\\tdef __init__(self, ***)\" :  \"class %%% has-a __init__ that takes self and *** params.\",\n",
    "    \"class %%%(object):\\n\\tdef ***(self, @@@)\":        \"class %%% has-a function *** that takes self and @@@ params.\",\n",
    "    \"*** = %%%()\":                                     \"Set *** to an instance of class %%%.\",\n",
    "    \"***.***(@@@)\":                                    \"From *** get the *** function, call it with params self, @@@.\",\n",
    "    \"***.*** = '***'\":                                 \"From *** get the *** attribute and set it to '***'.\"\n",
    "}\n",
    "\n",
    "# ჯერ ფრაზებით დავიწყოთ?\n",
    "if len(sys.argv) == 2 and sys.argv[1] == \"english\":\n",
    "    PHRASE_FIRST = True\n",
    "else:\n",
    "    PHRASE_FIRST = False\n",
    "\n",
    "# ვებ საიტიდან სიტყვების ჩატვირთვა\n",
    "for word in urlopen(WORD_URL).readlines():\n",
    "    WORDS.append(str(word.strip(), encoding=\"utf-8\"))\n",
    "\n",
    "\n",
    "def convert(snippet, phrase):\n",
    "    class_names = [w.capitalize() for w in random.sample(WORDS, snippet.count(\"%%%\"))]\n",
    "    other_names = random.sample(WORDS, snippet.count(\"***\"))\n",
    "    results = []\n",
    "    param_names = []\n",
    "\n",
    "    for i in range(0, snippet.count(\"@@@\")):\n",
    "        param_count = random.randint(1,3)\n",
    "        param_names.append(', '.join(\n",
    "            random.sample(WORDS, param_count)))\n",
    "\n",
    "    for sentence in snippet, phrase:\n",
    "        result = sentence[:]\n",
    "\n",
    "        # კლასების დასახელებები\n",
    "        for word in class_names:\n",
    "            result = result.replace(\"%%%\", word, 1)\n",
    "\n",
    "        # სხვა დასახელებები\n",
    "        for word in other_names:\n",
    "            result = result.replace(\"***\", word, 1)\n",
    "\n",
    "        # პარამეტრების ჩამონათვალი\n",
    "        for word in param_names:\n",
    "            result = result.replace(\"@@@\", word, 1)\n",
    "\n",
    "        results.append(result)\n",
    "          return results\n",
    "\n",
    "# გააგრძელე, სანამ მომხმარებელი დააჭერს CTRL-C\n",
    "try:\n",
    "    while True:\n",
    "        snippets = list(PHRASES.keys())\n",
    "        random.shuffle(snippets)\n",
    "\n",
    "        for snippet in snippets:\n",
    "            phrase = PHRASES[snippet]\n",
    "            question, answer = convert(snippet, phrase)\n",
    "            if PHRASE_FIRST:\n",
    "                question, answer = answer, question\n",
    "\n",
    "            print(question)\n",
    "\n",
    "            input(\"> \")\n",
    "            print(f\"ANSWER: {answer}\\n\\n\")\n",
    "except EOFError:\n",
    "    print(\"\\nBye\")"
   ]
  },
  {
   "cell_type": "code",
   "execution_count": null,
   "metadata": {},
   "outputs": [],
   "source": []
  }
 ],
 "metadata": {
  "kernelspec": {
   "display_name": "Python 3",
   "language": "python",
   "name": "python3"
  },
  "language_info": {
   "codemirror_mode": {
    "name": "ipython",
    "version": 3
   },
   "file_extension": ".py",
   "mimetype": "text/x-python",
   "name": "python",
   "nbconvert_exporter": "python",
   "pygments_lexer": "ipython3",
   "version": "3.8.5"
  }
 },
 "nbformat": 4,
 "nbformat_minor": 4
}
