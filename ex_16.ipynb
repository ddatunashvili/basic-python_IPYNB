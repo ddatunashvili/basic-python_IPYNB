{
 "cells": [
  {
   "cell_type": "code",
   "execution_count": null,
   "metadata": {},
   "outputs": [],
   "source": [
    "'''\n",
    "close() ხურავს ფაილს\n",
    "read()  ფაილს კითხულობს\n",
    "readline() სტრიქონებს კითხულობს\n",
    "truncate() აცარიელებს ფაილებს\n",
    "write() გადაწერა, ახალს არ წერს და გადააწერს\n",
    "'''"
   ]
  },
  {
   "cell_type": "code",
   "execution_count": null,
   "metadata": {},
   "outputs": [],
   "source": [
    "# from ys import argv\n",
    "# script, filename = arg\n",
    "filename = 'ex_15_sample.txt' # გაილის სახელია= სახელი, ფორმატით\n",
    "print(f\"მევაპირებ შემდეგი ფაილის წაშლას: {filename}.\") # ჩასვი ფაილის სახელი და ფორმატი\n",
    "print(\"თუ თვენ არ გნდათ ფაილის წაშლა, მაშსინ დააჭირეთ CTRL_C (^C).\")\n",
    "print(\"თუ არა და, დაელოდეთ ოპერატორს.\")\n",
    "# უბრალო ინპუტი\n",
    "input(\"?\")\n",
    "print('მიმდინარეობს ზარების მონი... უკაცრავად, გაილის გახსნა....')\n",
    "# ფაილის გახსნა და მომზადება ჩასაწერად utf8 ფორმატით\n",
    "target=open(filename, 'w', encoding='utf8')\n",
    "print('მიმდინარეობს ზარების მონი... უკაცრავად, გაილის გახსნა....')\n",
    "# ამ მომზადებულის გასუფთავება\n",
    "target.truncate()\n",
    "print('ახლა გისმენ. მითხარი რა ჩავწერო და ჩავწერ. 3 ხაზზე მეტსს ვერ ვიზამ ოღონდ. ')\n",
    "# ხაზებზე დასაწერი ტექსტები შეყვანა\n",
    "line1 = input('ხაზი 1: ')\n",
    "line2 = input('ხაზი 2: ')\n",
    "line3 = input('ხაზი 3: ')\n",
    "print('მიმდინარეობს ზარების მონი... უკაცრავად, გაილის გახსნა....')\n",
    "# პირველი ხაზი დაწერე\n",
    "target.write(line1)\n",
    "target.write('\\n') # დაიწყე ახალი ხაზი\n",
    "# მეორე ხაზი დაწერე\n",
    "target.write(line2) \n",
    "target.write('\\n') # დაიწყე ახალი ხაზი\n",
    "target.write(line3)\n",
    "target.write('\\n')\n",
    "print('ჩაწერა წარმატებით დასრულდა!')\n",
    "print('უკვე გვიანაა, ვიკეტებით! ხვალ სცადე კიდევ თუ გინდა! აბა კაქაათ! ')\n",
    "# მომზადებული ფაილიდან გამოდი\n",
    "target.close()"
   ]
  },
  {
   "cell_type": "code",
   "execution_count": null,
   "metadata": {},
   "outputs": [],
   "source": []
  }
 ],
 "metadata": {
  "kernelspec": {
   "display_name": "Python 3",
   "language": "python",
   "name": "python3"
  },
  "language_info": {
   "codemirror_mode": {
    "name": "ipython",
    "version": 3
   },
   "file_extension": ".py",
   "mimetype": "text/x-python",
   "name": "python",
   "nbconvert_exporter": "python",
   "pygments_lexer": "ipython3",
   "version": "3.8.3"
  }
 },
 "nbformat": 4,
 "nbformat_minor": 4
}
