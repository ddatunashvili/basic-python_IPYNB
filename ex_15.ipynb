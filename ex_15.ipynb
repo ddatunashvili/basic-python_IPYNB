{
 "cells": [
  {
   "cell_type": "code",
   "execution_count": null,
   "metadata": {},
   "outputs": [],
   "source": [
    "'კეთილი მანტიორი'\n",
    "'''\n",
    "Type:ცარიელია და ტიპი არარი\n",
    "txt=open()\n",
    "------------------------------------\n",
    "Name: ესეთი ფაილი არ არსებობს\n",
    "txt=open(not_filename)\n",
    "--------------------------------------\n",
    "Os: ფაილის არასწორი წაკითხვა\n",
    "txt=open(10)\n",
    "----------------------------------------\n",
    "Name: ex_15_sample ვერ ვიპოვნე\n",
    "txt=open(ex_15_sample.txt)\n",
    "--------------------------------------------\n",
    "'''\n"
   ]
  }
 ],
 "metadata": {
  "kernelspec": {
   "display_name": "Python 3",
   "language": "python",
   "name": "python3"
  },
  "language_info": {
   "codemirror_mode": {
    "name": "ipython",
    "version": 3
   },
   "file_extension": ".py",
   "mimetype": "text/x-python",
   "name": "python",
   "nbconvert_exporter": "python",
   "pygments_lexer": "ipython3",
   "version": "3.8.3"
  }
 },
 "nbformat": 4,
 "nbformat_minor": 4
}
