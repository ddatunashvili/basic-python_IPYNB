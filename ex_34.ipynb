{
 "cells": [
  {
   "cell_type": "code",
   "execution_count": 14,
   "metadata": {},
   "outputs": [
    {
     "data": {
      "text/plain": [
       "3"
      ]
     },
     "execution_count": 14,
     "metadata": {},
     "output_type": "execute_result"
    }
   ],
   "source": [
    "'სიის ელემენტებზე წვდომა'\n",
    "რიცხვები=[1,2,3,4,5]\n",
    "რიცხვები[-3] #  ბოლოდან მესამე ინდექსი"
   ]
  },
  {
   "cell_type": "code",
   "execution_count": 7,
   "metadata": {},
   "outputs": [
    {
     "data": {
      "text/plain": [
       "[2, 3, 4, 5]"
      ]
     },
     "execution_count": 7,
     "metadata": {},
     "output_type": "execute_result"
    }
   ],
   "source": [
    "რიცხვები[1:] # 1 ინდექსიდან ბოლომდე"
   ]
  },
  {
   "cell_type": "code",
   "execution_count": 12,
   "metadata": {},
   "outputs": [
    {
     "data": {
      "text/plain": [
       "[4, 5]"
      ]
     },
     "execution_count": 12,
     "metadata": {},
     "output_type": "execute_result"
    }
   ],
   "source": [
    "რიცხვები[3:6] # მესამე დან მეექვსე ინდექსამდე"
   ]
  },
  {
   "cell_type": "code",
   "execution_count": 20,
   "metadata": {},
   "outputs": [
    {
     "data": {
      "text/plain": [
       "[1, 2, 3, 4]"
      ]
     },
     "execution_count": 20,
     "metadata": {},
     "output_type": "execute_result"
    }
   ],
   "source": [
    "რიცხვები[:-1] # თავიდან ბოლოსწინა ინდექსამდე"
   ]
  },
  {
   "cell_type": "code",
   "execution_count": 35,
   "metadata": {},
   "outputs": [
    {
     "name": "stdout",
     "output_type": "stream",
     "text": [
      "[1, 2, 3, 4, 5] რიხვები\n",
      "[1, 2, 4, 5] მეორე ინდექსი ამოიღო\n",
      "[1, 2, 4]  ბოლო ინდექსი წაშალა\n",
      "[2, 4] პირველი მნიშვნელობის წაშლა\n"
     ]
    }
   ],
   "source": [
    "რიცხვები=[1,2,3,4,5]\n",
    "print(რიცხვები, 'რიხვები')\n",
    "# pop მიმართავს ინდექსით და remove მიმართავს მნიშვნელობით\n",
    "del რიცხვები[2] # წაშლა მეორე ინდექსის (შეიძლება 2:3 სლაისებად დაჭრას)\n",
    "print(რიცხვები, 'მეორე ინდექსი ამოიღო')\n",
    "რიცხვები.pop(-1) # წაშლა ბოლო ინდექის \n",
    "print(რიცხვები, ' ბოლო ინდექსი წაშალა')\n",
    "რიცხვები.remove(1) # წაშლა პირველი მნიშვნელობის\n",
    "print(რიცხვები, 'პირველი მნიშვნელობის წაშლა')"
   ]
  }
 ],
 "metadata": {
  "kernelspec": {
   "display_name": "Python 3",
   "language": "python",
   "name": "python3"
  },
  "language_info": {
   "codemirror_mode": {
    "name": "ipython",
    "version": 3
   },
   "file_extension": ".py",
   "mimetype": "text/x-python",
   "name": "python",
   "nbconvert_exporter": "python",
   "pygments_lexer": "ipython3",
   "version": "3.8.5"
  }
 },
 "nbformat": 4,
 "nbformat_minor": 4
}
