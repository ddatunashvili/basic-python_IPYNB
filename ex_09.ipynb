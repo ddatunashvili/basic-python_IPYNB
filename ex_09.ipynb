{
 "cells": [
  {
   "cell_type": "code",
   "execution_count": 15,
   "metadata": {},
   "outputs": [
    {
     "name": "stdout",
     "output_type": "stream",
     "text": [
      "Here are the days:  Mon Tue Wed Thu Fri Sat Sun\n",
      "Here are the months:  \n",
      "Jan\n",
      "Feb\n",
      "Mar\n",
      "Apr\n",
      "May\n",
      "Jun\n",
      "Jul\n",
      "Aug\n",
      "\n",
      "    აქ რაღაც ხდება.\n",
      "რაღაც უცნაური ამ სამ ორმაგ ბრჭყალებთანაა დაკავშირებული.\n",
      "ჩვენ სურვილისამებრ შეგვიძლია დავბეჭდოთ ხაზები.\n",
      "გინდ 4 ხაზიც, გინდ 5 და 6.\n",
      "\n"
     ]
    }
   ],
   "source": [
    "# აიღე დღეები დ თვეები\n",
    "days = \"Mon Tue Wed Thu Fri Sat Sun\"\n",
    "months = \"\\nJan\\nFeb\\nMar\\nApr\\nMay\\nJun\\nJul\\nAug\"\n",
    "# ჩამოთვალე \n",
    "print(\"Here are the days: \", days)\n",
    "print(\"Here are the months: \", months)\n",
    "# სამი \"\"\" საშუალებას გვაძლევს დავბეჭდოთ რამდენიმე ხაზზე\n",
    "print(\"\"\"\n",
    "    აქ რაღაც ხდება.\n",
    "რაღაც უცნაური ამ სამ ორმაგ ბრჭყალებთანაა დაკავშირებული.\n",
    "ჩვენ სურვილისამებრ შეგვიძლია დავბეჭდოთ ხაზები.\n",
    "გინდ 4 ხაზიც, გინდ 5 და 6.\n",
    "\"\"\")"
   ]
  },
  {
   "cell_type": "code",
   "execution_count": 110,
   "metadata": {},
   "outputs": [
    {
     "name": "stdout",
     "output_type": "stream",
     "text": [
      "პირველი ხაზი\n",
      "მეორე ხაზი\n",
      "მესამე ხაზი\n",
      "პირველი \n",
      "ახალი ხაზი 1\n",
      "მეორე \n",
      "ახალი ხაზი 2\n",
      "მესამე \n",
      "ახალი ხაზი 3 \n"
     ]
    }
   ],
   "source": [
    "# დაბეჭდე 2 ან მეტი ხაზი\n",
    "print('''პირველი ხაზი\n",
    "მეორე ხაზი\n",
    "მესამე ხაზი''')\n",
    "'------------------------------------------------'\n",
    "# ახალი ხაზზე დაბეჭდვა\n",
    "print('''პირველი \\nახალი ხაზი 1\n",
    "მეორე \\nახალი ხაზი 2\n",
    "მესამე \\nახალი ხაზი 3 ''')\n",
    "\n"
   ]
  },
  {
   "cell_type": "code",
   "execution_count": 111,
   "metadata": {},
   "outputs": [
    {
     "name": "stdout",
     "output_type": "stream",
     "text": [
      "მე მიყვარს საქართველო\n",
      "მეც მიყვარს საქართველო\n"
     ]
    }
   ],
   "source": [
    "'კეთილი მანტიორი'\n",
    "# , ის გარეშეც გამოიტანს სტრინგებს ერთ ხაზზე\n",
    "print ( \n",
    "'მე'\n",
    "' მიყვარს' \n",
    "' საქართველო'\n",
    ")\n",
    "#---------------------------------------------------------------\n",
    "'''\n",
    "syntax: ყველა სტრინგი თავისივე ლაინზე დახურე ხოლმე\n",
    "print(\n",
    "\"მე\"\n",
    "\"მიყვარს\" \n",
    "\"საქართველო\n",
    "\")\n",
    "'''\n",
    "print(\"მეც\"\n",
    "\" მიყვარს\" \n",
    "\" საქართველო\"\n",
    ")\n",
    "#---------------------------------------------------------------\n"
   ]
  }
 ],
 "metadata": {
  "kernelspec": {
   "display_name": "Python 3",
   "language": "python",
   "name": "python3"
  },
  "language_info": {
   "codemirror_mode": {
    "name": "ipython",
    "version": 3
   },
   "file_extension": ".py",
   "mimetype": "text/x-python",
   "name": "python",
   "nbconvert_exporter": "python",
   "pygments_lexer": "ipython3",
   "version": "3.8.3"
  }
 },
 "nbformat": 4,
 "nbformat_minor": 4
}
