{
 "cells": [
  {
   "cell_type": "code",
   "execution_count": 12,
   "metadata": {},
   "outputs": [
    {
     "ename": "SyntaxError",
     "evalue": "invalid syntax (<ipython-input-12-5b35c3242a4b>, line 11)",
     "output_type": "error",
     "traceback": [
      "\u001b[1;36m  File \u001b[1;32m\"<ipython-input-12-5b35c3242a4b>\"\u001b[1;36m, line \u001b[1;32m11\u001b[0m\n\u001b[1;33m    - **ბულის ალგებრას** ეწოდება არაცარიელ სიმრავლეს ($A$) რომელსაც გააჩნიეა:\u001b[0m\n\u001b[1;37m      ^\u001b[0m\n\u001b[1;31mSyntaxError\u001b[0m\u001b[1;31m:\u001b[0m invalid syntax\n"
     ]
    }
   ],
   "source": [
    "'ლოგიკური გამოსახულებები'\n",
    "'''\n",
    "ბულის ალგებრა\n",
    "წიგნი: 'აზროვნების კანონები'\n",
    "არავარიელ სიმრავლეს (A) რომელსაც გააჩნია\n",
    "--------------------------------------------\n",
    "    ორი ბინარული ოპერაცია : კონიუფუნქცია და დიზუინქცია\n",
    "    ერთი რნარული ოპერაცია: უარყოფა\n",
    "    ორი გამოყოფილი ელემენტები 0 და 1 : მცდარი და მართალი\n",
    "--------------------------------------------\n",
    "'''"
   ]
  },
  {
   "cell_type": "code",
   "execution_count": 13,
   "metadata": {},
   "outputs": [
    {
     "ename": "SyntaxError",
     "evalue": "invalid syntax (<ipython-input-13-af77a797198f>, line 1)",
     "output_type": "error",
     "traceback": [
      "\u001b[1;36m  File \u001b[1;32m\"<ipython-input-13-af77a797198f>\"\u001b[1;36m, line \u001b[1;32m1\u001b[0m\n\u001b[1;33m    - **Python**-ში ჩვენ ვიყენებთ შემდეგ **ლოგიკურ ოპერატორებს**, რათა ვიმუშაოთ გამოსახულებაზე და დავადგინოთ, **მართალია** ის თუ **მცდარი**:\u001b[0m\n\u001b[1;37m      ^\u001b[0m\n\u001b[1;31mSyntaxError\u001b[0m\u001b[1;31m:\u001b[0m invalid syntax\n"
     ]
    }
   ],
   "source": [
    "Python-ში ჩვენ ვიყენებთ შემდეგ ლოგიკურ ოპერატორებს, რათა ვიმუშაოთ გამოსახულებაზე და დავადგინოთ, მართალია ის თუ მცდარი:\n",
    "\n",
    "False - რაც აღნიშნავს 0-ს, ანუ მცდარს;\n",
    "\n",
    "True - რაც აღნიშნავს 1-ს, ანუ მართალს;\n",
    "\n",
    "and - რაც აღნიშნავს ∧-ს, ანუ დიზუინქციას;\n",
    "\n",
    "or - რაც აღნიშნავს ∨-ს, ანუ დიზუინქციას;\n",
    "\n",
    "not - რაც აღნიშნავს ¬-ს, ანუ უარყოფას.\n",
    "\n",
    "ამის გარდა, Python-ში ჩვენ ვიყენებთ შედარების ოპერატორებს:\n",
    "\n",
    "== - ტოლია;\n",
    "\n",
    "!= - არ არის ტოლი;\n",
    "\n",
    "> - მეტია;\n",
    "\n",
    "< - ნაკლებია;\n",
    "\n",
    ">= - მეტია ან ტოლი;\n",
    "\n",
    "<= - ნაკლებია ან ტოლი."
   ]
  },
  {
   "cell_type": "code",
   "execution_count": 20,
   "metadata": {},
   "outputs": [
    {
     "ename": "SyntaxError",
     "evalue": "invalid syntax (<ipython-input-20-03a38ccdd543>, line 2)",
     "output_type": "error",
     "traceback": [
      "\u001b[1;36m  File \u001b[1;32m\"<ipython-input-20-03a38ccdd543>\"\u001b[1;36m, line \u001b[1;32m2\u001b[0m\n\u001b[1;33m    not False\tTrue\u001b[0m\n\u001b[1;37m             \t^\u001b[0m\n\u001b[1;31mSyntaxError\u001b[0m\u001b[1;31m:\u001b[0m invalid syntax\n"
     ]
    }
   ],
   "source": [
    "\n",
    "NOT\tTrue?\n",
    "not False\tTrue\n",
    "not True\tFalse\n",
    "AND\tTrue?\n",
    "True and True\tTrue\n",
    "True and False\tFalse\n",
    "False and True\tFalse\n",
    "False and False\tFalse\n",
    "OR\tTrue?\n",
    "True or True\tTrue\n",
    "True or False\tTrue\n",
    "False or True\tTrue\n",
    "False or False\tFalse\n",
    "NOT OR\tTrue?\n",
    "not (True or True)\tFalse\n",
    "not (True or False)\tFalse\n",
    "not (False or True)\tFalse\n",
    "not (False or False)\tTrue\n",
    "NOT AND\tTrue?\n",
    "not (True and True)\tFalse\n",
    "not (True and False)\tTrue\n",
    "not (False and True)\tTrue\n",
    "not (False and False)\tTrue\n",
    "!=\tTrue?\n",
    "1 != 0\tTrue\n",
    "1 != 1\tFalse\n",
    "0 != 1\tTrue\n",
    "0 != 0\tFalse\n",
    "==\tTrue?\n",
    "1 == 0\tFalse\n",
    "1 == 1\tTrue\n",
    "0 == 1\tFalse\n",
    "0 == 0\tTrue"
   ]
  }
 ],
 "metadata": {
  "kernelspec": {
   "display_name": "Python 3",
   "language": "python",
   "name": "python3"
  },
  "language_info": {
   "codemirror_mode": {
    "name": "ipython",
    "version": 3
   },
   "file_extension": ".py",
   "mimetype": "text/x-python",
   "name": "python",
   "nbconvert_exporter": "python",
   "pygments_lexer": "ipython3",
   "version": "3.8.5"
  }
 },
 "nbformat": 4,
 "nbformat_minor": 4
}
