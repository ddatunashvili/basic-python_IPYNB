{
 "cells": [
  {
   "cell_type": "code",
   "execution_count": 171,
   "metadata": {},
   "outputs": [
    {
     "name": "stdout",
     "output_type": "stream",
     "text": [
      "მარის ყავდა პატარა ცხვარი\n",
      "მისი მატყლი იყო თეთრი როგორც თოვლი\n",
      "და ყველგან იყო მიმოფანტული სადაც მარი შევიდოდა\n",
      "..........\n",
      "ჩისბურ გერი\n"
     ]
    }
   ],
   "source": [
    "'მეტი პრინტი'\n",
    "#------------------------------------------------------------------------\n",
    "# დაბეჭდე ტექსტი\n",
    "print(\"მარის ყავდა პატარა ცხვარი\")\n",
    "# ტექსტში ჩასვი ფორმატით სიტყვა 'თოვლი'\n",
    "print('მისი მატყლი იყო თეთრი როგორც {}'. format('თოვლი'))\n",
    "# დაბეჭდე შემდგომი ტექსტი\n",
    "print('და ყველგან იყო მიმოფანტული სადაც მარი შევიდოდა')\n",
    "# 10 ცალი წერტილი დაბეჭდე (წერტილები არაგამოტოვებით )\n",
    "print('.' * 10) \n",
    "#------------------------------------------------------------------------\n",
    "end1 = \"ჩ\"\n",
    "end2 = \"ი\"\n",
    "end3 = \"ს\"\n",
    "end4 = \"ბ\"\n",
    "end5 = \"უ\"\n",
    "end6 = \"რ\"\n",
    "end7 = \"გ\"\n",
    "end8 = \"ე\"\n",
    "end9 = \"რ\"\n",
    "end10 = \"ი\"\n",
    "#------------------------------------------------------------------------\n",
    "# შეაწებე,შეკარი აღებული სტრინგები და ბოლო end= ' '\n",
    "print(end1 + end2 + end3 + end4 + end5 + end6, end=' ')\n",
    "print(end7 + end8 + end9 + end10)"
   ]
  },
  {
   "cell_type": "code",
   "execution_count": 172,
   "metadata": {},
   "outputs": [
    {
     "name": "stdout",
     "output_type": "stream",
     "text": [
      "ჩისბურგერი ჩისბურგერი "
     ]
    }
   ],
   "source": [
    "                    '<არდაიმახსოვრებ და ვისი აჯობებს ნახავ>'\n",
    "\n",
    "#------------------------------------------------------------------------\n",
    "'''\n",
    "print() პარამეტრი ყოველთვის ახალ სტრიქონს ქმნის\n",
    "end= ' ' პარამეტრი კი პირაპირ ამატებს \n",
    "ახალი სტრიქონიდან დაწყები გარეშე  \n",
    "'''\n",
    "#------------------------------------------------------------------------\n",
    "'პლიუსების გამოყენება შეგვიძლია ისეთი ფორმით, როგორც ჩვენ მოგვესურვება '\n",
    "print(\n",
    "    end1 + \n",
    "            end2 \n",
    "              + end3 \n",
    "                  + end4 +\n",
    "             end5 +\n",
    "          end6\n",
    "         + end7 + \n",
    "      end8 \n",
    "    + end9 \n",
    "          +end10, \n",
    "              end=' '\n",
    ")\n",
    "#------------------------------------------------------------------------\n",
    "'''\n",
    "ახალი ხაზს არიწყებს პრინტი და end=' ' ის მეშვეობით ერთ ხაზზე გამოიტანს\n",
    "'''\n",
    "print(\n",
    "end1 + \n",
    "end2 +\n",
    "end3 +\n",
    "end4 +\n",
    "end5 +\n",
    "end6 +\n",
    "end7 + \n",
    "end8 +\n",
    "end9 +\n",
    "end10, \n",
    "end=' '\n",
    ")"
   ]
  },
  {
   "cell_type": "code",
   "execution_count": 173,
   "metadata": {},
   "outputs": [
    {
     "name": "stdout",
     "output_type": "stream",
     "text": [
      "ჩისბურგერი "
     ]
    }
   ],
   "source": [
    "#------------------------------------------------------------------------#\n",
    "'კეთილი მანტიორი'\n",
    "#------------------------------------------------------------------------#\n",
    "'''\n",
    "syntax: მე რომ ვიტყვი ხაზი ხაზში უნდა იყოს\n",
    "print(end1 + end2 + end3 + end4 + end5 + end6+ end7 + end8 + end9 + end10 end=' ')\n",
    "'''\n",
    "# end10( , ის მეშვეობით) დასრულდა ხაზი და მერე დაიწერა ახალი ხაზი ' ' ამავე ხაზის გასწვრივ\n",
    "print(end1 + end2 + end3 + end4 + end5 + end6+ end7 + end8 + end9 + end10, end=' ')"
   ]
  },
  {
   "cell_type": "code",
   "execution_count": 174,
   "metadata": {},
   "outputs": [
    {
     "name": "stdout",
     "output_type": "stream",
     "text": [
      "ხისბურგერი "
     ]
    }
   ],
   "source": [
    "'''\n",
    "type: სიტყვას რიცხვი როგორ მიემატება არ გამაგიჟო\n",
    "end1=1\n",
    "print(end1 + end2 + end3 + end4 + end5 + end6+ end7 + end8 + end9 + end10, end=' ')\n",
    "'''\n",
    "end1=\"ხ\"\n",
    "print(end1 + end2 + end3 + end4 + end5 + end6+ end7 + end8 + end9 + end10, end=' ')"
   ]
  },
  {
   "cell_type": "code",
   "execution_count": 175,
   "metadata": {},
   "outputs": [
    {
     "name": "stdout",
     "output_type": "stream",
     "text": [
      "ხიხია"
     ]
    }
   ],
   "source": [
    "'''\n",
    "პითონი იმახსოვრებს ბოლო მინიჭებას და თუ თანმიმდევრულად არ გაუკეთე run cell-ს\n",
    "შენი გაშვებული cell-ში არსებული მინიჭების მიხედვით იხელმძღვანელებს  მომავალი cell-ისთვის\n",
    "#-----------------------------------------\n",
    "type: ან სტრინგები აიღე ან ინტები რა შემაღონე\n",
    "end2=2\n",
    "end3=3\n",
    "print(end1 + end2 + end3)\n",
    "'''\n",
    "end1=\"ხ\"\n",
    "end2='ი'\n",
    "end3='ხ'\n",
    "end4= \"ი\"\n",
    "print(end1 + end2 + end3 + end4, end=\"ა\")\n"
   ]
  },
  {
   "cell_type": "code",
   "execution_count": 176,
   "metadata": {},
   "outputs": [
    {
     "name": "stdout",
     "output_type": "stream",
     "text": [
      "ხიხია ხიხია"
     ]
    }
   ],
   "source": [
    "'''\n",
    "syntax:end=' ' იწერება ბოლოში\n",
    "print(end=\"ა\", end1 + end2 + end3 + end4)\n",
    "'''\n",
    "print( end1 + end2 + end3 + end4, end=\"ა \")\n",
    "#----------------------------------------------------------------------------\n",
    "'''\n",
    "syntax: ორჯერ არ შეიძლება ენდის გამოყენება\n",
    "print(end1 + end2 + end3 + end4, end=\"ა\", end=\" \" ) \n",
    "'''\n",
    "print( end1 + end2 + end3 + end4, end=\"ა\")"
   ]
  },
  {
   "cell_type": "code",
   "execution_count": null,
   "metadata": {},
   "outputs": [],
   "source": [
    "\n"
   ]
  }
 ],
 "metadata": {
  "kernelspec": {
   "display_name": "Python 3",
   "language": "python",
   "name": "python3"
  },
  "language_info": {
   "codemirror_mode": {
    "name": "ipython",
    "version": 3
   },
   "file_extension": ".py",
   "mimetype": "text/x-python",
   "name": "python",
   "nbconvert_exporter": "python",
   "pygments_lexer": "ipython3",
   "version": "3.8.3"
  }
 },
 "nbformat": 4,
 "nbformat_minor": 4
}
