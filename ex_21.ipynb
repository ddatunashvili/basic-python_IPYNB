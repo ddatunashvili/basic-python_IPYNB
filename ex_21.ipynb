{
 "cells": [
  {
   "cell_type": "code",
   "execution_count": 1,
   "metadata": {},
   "outputs": [
    {
     "name": "stdout",
     "output_type": "stream",
     "text": [
      " + : 30 + 5\n",
      " - : 366 - 2\n",
      " * : 30 * 4\n",
      " / : 201 / 3\n",
      "35 368 34 67.0\n",
      " / : 67.0 / 2\n",
      " * : 34 * 33.5\n",
      " - : 368 - 67.5\n",
      " + : 35 + 435.5\n",
      "470.5\n"
     ]
    }
   ],
   "source": [
    "'ფუნქციებს რაღაცის დაბრუნებაც შეუძლიათ'\n",
    "def add(a,b):\n",
    "    print(f\" + : {a} + {b}\")\n",
    "    return a + b\n",
    "def substract(a,b):\n",
    "    print(f\" - : {a} - {b}\")\n",
    "    return a + b\n",
    "def multiply(a,b):\n",
    "    print(f\" * : {a} * {b}\")\n",
    "    return a + b\n",
    "def divide(a,b):\n",
    "    print(f\" / : {a} / {b}\")\n",
    "    return a / b\n",
    "a = add(30,5)\n",
    "h = substract(366,2)\n",
    "w = multiply (30,4)\n",
    "i = divide(201,3)\n",
    "print(a,h,w,i)\n",
    "# პირველი ეშვება შიდა ფუნქცია\n",
    "# a+b * (b+c) -->ჯერ b+c სრულდება\n",
    "# დამატება(ა მიაწოდე, გამოაკელი(ჰ მიაწოდე, გაყავი(ი მიაწოდე, 2)))\n",
    "what = add (a, substract(h,multiply(w, divide(i,2))))\n",
    "print(what)"
   ]
  },
  {
   "cell_type": "code",
   "execution_count": 4,
   "metadata": {},
   "outputs": [
    {
     "ename": "IndentationError",
     "evalue": "unexpected indent (<ipython-input-4-67b28d77d9ca>, line 15)",
     "output_type": "error",
     "traceback": [
      "\u001b[1;36m  File \u001b[1;32m\"<ipython-input-4-67b28d77d9ca>\"\u001b[1;36m, line \u001b[1;32m15\u001b[0m\n\u001b[1;33m    return b\u001b[0m\n\u001b[1;37m    ^\u001b[0m\n\u001b[1;31mIndentationError\u001b[0m\u001b[1;31m:\u001b[0m unexpected indent\n"
     ]
    }
   ],
   "source": [
    "'კეთილი მანტიორი'\n",
    "'''\n",
    "syntax: სად უშვებ მინიჭებას\n",
    "def f(a):\n",
    "    return a +=a\n",
    "f(1)\n",
    "'''\n",
    "def f(a,b,c):\n",
    "    return a # აქ ფუნქცია სრულდება და დანარჩენს აღარ დააბრუნებს\n",
    "    return b\n",
    "    return c\n",
    "f(1,2,3)\n"
   ]
  }
 ],
 "metadata": {
  "kernelspec": {
   "display_name": "Python 3",
   "language": "python",
   "name": "python3"
  },
  "language_info": {
   "codemirror_mode": {
    "name": "ipython",
    "version": 3
   },
   "file_extension": ".py",
   "mimetype": "text/x-python",
   "name": "python",
   "nbconvert_exporter": "python",
   "pygments_lexer": "ipython3",
   "version": "3.8.5"
  }
 },
 "nbformat": 4,
 "nbformat_minor": 4
}
