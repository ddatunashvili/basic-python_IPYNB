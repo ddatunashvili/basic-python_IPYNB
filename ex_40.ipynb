{
 "cells": [
  {
   "cell_type": "code",
   "execution_count": 24,
   "metadata": {},
   "outputs": [
    {
     "name": "stdout",
     "output_type": "stream",
     "text": [
      "ბარო ბარო\n"
     ]
    },
    {
     "data": {
      "text/plain": [
       "'\\nimport func \\nprint(func.hello)\\n'"
      ]
     },
     "execution_count": 24,
     "metadata": {},
     "output_type": "execute_result"
    }
   ],
   "source": [
    "        'მოდულები, კლასები და ობიექტები'\n",
    "#        \\\\ ობიექტზე ორიენტირებული პროგრამირება (oop)\n",
    "                    # მოდული \n",
    "'''\n",
    "ერთ ფაილში იქნება ჩაწერილი მეთოდი\n",
    "რომელსაც მეორე ფაილი გამოიყენებს\n",
    "'''\n",
    "# ფაილი 1  სახელით func\n",
    "def hello():\n",
    "    print('ბარო ბარო')\n",
    "hello() #---> ამის მეორე ფაილში გამოსაძახებლად ^_^\n",
    "# ფეილი 2\n",
    "# import func ან import .. as ..\n",
    "'''\n",
    "import func as f\n",
    "f.hello()\n",
    "'''\n",
    "# ცვლადების გადმოტანა მოდულიდან\n",
    "# ფაილი 1\n",
    "'''\n",
    "hello = 'ზდაროვა'\n",
    "'''\n",
    "# ფაილი 2 \n",
    "'''\n",
    "import func \n",
    "print(func.hello)\n",
    "'''\n"
   ]
  },
  {
   "cell_type": "code",
   "execution_count": 1,
   "metadata": {},
   "outputs": [
    {
     "name": "stdout",
     "output_type": "stream",
     "text": [
      "\n",
      "აბა მიესალმე >> \n",
      "მოგესალმები, მე ვარ ბაჭია\n",
      "2+2 მივუმატოთ რამდენია ბაჭია? >> \n",
      "არ დაიბნა ბაჭია, ორი ყური აწია\n",
      "რა ცხოველი ხარ? >> \n",
      "<class '__main__.კურდღელი'>\n",
      "რა რიცხვები გინდა შეგიკრიბო a= 1\n",
      "რა რიცხვები გინდა შეგიკრიბო b= 2\n",
      "მე მივიღე 3\n"
     ]
    }
   ],
   "source": [
    "                    # კლასები\n",
    "class კურდღელი(object):\n",
    "#   შემადგენელი ნაწილები (ცვლადები)\n",
    "    def __init__ (self):\n",
    "#       ორი ყური\n",
    "        self.ყური = 'არ დაიბნა ბაჭია, ორი ყური აწია'\n",
    "#   მისალმების ფუნქცია\n",
    "    def hi(self):\n",
    "        print(\"მოგესალმები, მე ვარ ბაჭია\")\n",
    "    def შეკრება(self,a,b):\n",
    "        ჯამი=a+b\n",
    "        print(f\"მე მივიღე {ჯამი}\")\n",
    "ბაჭია_01=კურდღელი()\n",
    "print()\n",
    "print('აბა მიესალმე >> ')\n",
    "ბაჭია_01.hi()\n",
    "\n",
    "print('2+2 მივუმატოთ რამდენია ბაჭია? >> ')\n",
    "print(ბაჭია_01.ყური)\n",
    "\n",
    "print('რა ცხოველი ხარ? >> ')\n",
    "print(type(ბაჭია_01))\n",
    "\n",
    "a=int(input('რა რიცხვები გინდა შეგიკრიბო a= '))\n",
    "b=int(input('რა რიცხვები გინდა შეგიკრიბო b= '))\n",
    "ბაჭია_01.შეკრება(a,b)"
   ]
  },
  {
   "cell_type": "code",
   "execution_count": null,
   "metadata": {},
   "outputs": [],
   "source": [
    "\n",
    "\n",
    "\n",
    "\n",
    "\n"
   ]
  }
 ],
 "metadata": {
  "kernelspec": {
   "display_name": "Python 3",
   "language": "python",
   "name": "python3"
  },
  "language_info": {
   "codemirror_mode": {
    "name": "ipython",
    "version": 3
   },
   "file_extension": ".py",
   "mimetype": "text/x-python",
   "name": "python",
   "nbconvert_exporter": "python",
   "pygments_lexer": "ipython3",
   "version": "3.8.5"
  }
 },
 "nbformat": 4,
 "nbformat_minor": 4
}
