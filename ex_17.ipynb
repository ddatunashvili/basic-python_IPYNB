{
 "cells": [
  {
   "cell_type": "code",
   "execution_count": 1,
   "metadata": {},
   "outputs": [
    {
     "name": "stdout",
     "output_type": "stream",
     "text": [
      "შეიყვანეთ from file დირექტორია: ex_15_sample.txt\n",
      "შეიყვანეთ to file დირექტორია: ex_16_sample.txt\n",
      "მიმდინარეობს ex_15_sample.txt ფაილიდან ex_16_sample.txt ფაილში კოპირება.\n"
     ]
    },
    {
     "ename": "TypeError",
     "evalue": "object of type 'builtin_function_or_method' has no len()",
     "output_type": "error",
     "traceback": [
      "\u001b[1;31m---------------------------------------------------------------------------\u001b[0m",
      "\u001b[1;31mTypeError\u001b[0m                                 Traceback (most recent call last)",
      "\u001b[1;32m<ipython-input-1-cad1c598c2ea>\u001b[0m in \u001b[0;36m<module>\u001b[1;34m\u001b[0m\n\u001b[0;32m     13\u001b[0m \u001b[0mindata\u001b[0m\u001b[1;33m=\u001b[0m\u001b[0min_file\u001b[0m\u001b[1;33m.\u001b[0m\u001b[0mread\u001b[0m\u001b[1;33m\u001b[0m\u001b[1;33m\u001b[0m\u001b[0m\n\u001b[0;32m     14\u001b[0m \u001b[1;31m# დააბრუნებს ყველა რი\u001b[0m\u001b[1;33m\u001b[0m\u001b[1;33m\u001b[0m\u001b[1;33m\u001b[0m\u001b[0m\n\u001b[1;32m---> 15\u001b[1;33m \u001b[0mprint\u001b[0m\u001b[1;33m(\u001b[0m\u001b[1;34mf\"შემომავალ ფაილი შედგება {len(indata)} ბიტისაგან.\"\u001b[0m\u001b[1;33m)\u001b[0m\u001b[1;33m\u001b[0m\u001b[1;33m\u001b[0m\u001b[0m\n\u001b[0m\u001b[0;32m     16\u001b[0m \u001b[1;33m\u001b[0m\u001b[0m\n\u001b[0;32m     17\u001b[0m \u001b[0mprint\u001b[0m\u001b[1;33m(\u001b[0m\u001b[1;34mf\"შევამოწმოთ, არსებუბს თუ არა ჩასაწერი ფაილი? {exists(to_file)}\"\u001b[0m\u001b[1;33m)\u001b[0m\u001b[1;33m\u001b[0m\u001b[1;33m\u001b[0m\u001b[0m\n",
      "\u001b[1;31mTypeError\u001b[0m: object of type 'builtin_function_or_method' has no len()"
     ]
    }
   ],
   "source": [
    "from sys import argv\n",
    "from os.path import exists\n",
    "# შეგვყავს ფრომ და თუ ფაილის მისამართები\n",
    "from_file=input('შეიყვანეთ from file დირექტორია: ')\n",
    "to_file=input('შეიყვანეთ to file დირექტორია: ')\n",
    "'------------------------------------------------------'\n",
    "# script, from_file, to_file = argv სჭირდებაა ჩაწერა ტერმინალში\n",
    "'------------------------------------------------------'\n",
    "# ჩაისმება დაფორმატებით\n",
    "print(f\"მიმდინარეობს {from_file} ფაილიდან {to_file} ფაილში კოპირება.\")\n",
    "# გახსენი და წაიკითხე ფრომ ფაილი\n",
    "in_file=open(from_file, encoding=\"utf8\")\n",
    "indata=in_file.read\n",
    "# დააბრუნე რიცხვის სახით მონაცემების ზომა\n",
    "print(f\"შემომავალ ფაილი შედგება {len(indata)} ბიტისაგან.\")\n",
    "# შეამოწმე იპოვნე თუ არა ფაილი\n",
    "print(f\"შევამოწმოთ, არსებუბს თუ არა ჩასაწერი ფაილი? {exists(to_file)}\")\n",
    "print(\"მზად ვარ! თუ გადაიფიქრე დააჭირე CTRL-C, თუ არა და, მიაწექ მაროუ!\")\n",
    "# შეაჩერე სანამ რამეს არ შეყვან\n",
    "input()\n",
    "# გახსენი to file და მოამზადა გადასაწერად\n",
    "out_file = open(to_file, 'w', encoding=\"utf8\")\n",
    "# გადაწერე \n",
    "out_file.write(indata)\n",
    "print(\"შენ დაწყნარდი, მე ყველაფერი მოვაგვარე!\")\n",
    "# დახურე ორივე ფაილი\n",
    "out_file.close()\n",
    "in_file.close()"
   ]
  }
 ],
 "metadata": {
  "kernelspec": {
   "display_name": "Python 3",
   "language": "python",
   "name": "python3"
  },
  "language_info": {
   "codemirror_mode": {
    "name": "ipython",
    "version": 3
   },
   "file_extension": ".py",
   "mimetype": "text/x-python",
   "name": "python",
   "nbconvert_exporter": "python",
   "pygments_lexer": "ipython3",
   "version": "3.8.3"
  }
 },
 "nbformat": 4,
 "nbformat_minor": 4
}
