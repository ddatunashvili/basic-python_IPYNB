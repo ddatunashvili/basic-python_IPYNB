{
 "cells": [
  {
   "cell_type": "code",
   "execution_count": 18,
   "metadata": {},
   "outputs": [
    {
     "name": "stdout",
     "output_type": "stream",
     "text": [
      "We can just give the function numbers directly:\n",
      "You have 20 cheeses!\n",
      "You have 30 boxes of crackers!\n",
      "Man that's enough for a party!\n",
      "Get a blanket.\n",
      "\n",
      "OR, we can use variables from our script:\n",
      "You have 10 cheeses!\n",
      "You have 50 boxes of crackers!\n",
      "Man that's enough for a party!\n",
      "Get a blanket.\n",
      "\n",
      "We can even do math inside too:\n",
      "You have 30 cheeses!\n",
      "You have 11 boxes of crackers!\n",
      "Man that's enough for a party!\n",
      "Get a blanket.\n",
      "\n",
      "And we can combine the two, variables and math:\n",
      "You have 110 cheeses!\n",
      "You have 1050 boxes of crackers!\n",
      "Man that's enough for a party!\n",
      "Get a blanket.\n",
      "\n"
     ]
    }
   ],
   "source": [
    "# ყველისა და კრეკერის დათვლის ფუნქცია\n",
    "def cheese_and_crackers(cheese_count, boxes_of_crackers):\n",
    "    # მაჩვენე რამდენი ყველია\n",
    "    print(f\"You have {cheese_count} cheeses!\")\n",
    "    # მაჩვენე რამდენი კრეკერის ყუთია\n",
    "    print(f\"You have {boxes_of_crackers} boxes of crackers!\") \n",
    "    print(\"Man that's enough for a party!\")\n",
    "    print(\"Get a blanket.\\n\")\n",
    "    \n",
    "    \n",
    "#მიაწოდე ფუნქციას ყველის და ყუთების რაოდენობები\n",
    "print(\"We can just give the function numbers directly:\")\n",
    "cheese_and_crackers(20,30)\n",
    "# აიღე ყველის და კრეკერების ცვლადები\n",
    "print(\"OR, we can use variables from our script:\")\n",
    "amount_of_cheese = 10\n",
    "amount_of_crackers = 50\n",
    "# მიაწოდე ფუნქციას ცვლადები \n",
    "cheese_and_crackers(amount_of_cheese, amount_of_crackers\n",
    "# მიაწოდე ფუნქციას დაანგარიშებული რიცხვები\n",
    "print(\"We can even do math inside too:\")\n",
    "cheese_and_crackers(10 + 20, 5 + 6)\n",
    "# მიაწოდე ფუნქციას ცვლადებითა კალკულაციებით დათვლილი რიცხვები\n",
    "print(\"And we can combine the two, variables and math:\")\n",
    "cheese_and_crackers(amount_of_cheese + 100, amount_of_crackers + 1000)"
   ]
  },
  {
   "cell_type": "code",
   "execution_count": 3,
   "metadata": {},
   "outputs": [
    {
     "name": "stdout",
     "output_type": "stream",
     "text": [
      "შეიყვანე ორი რიცხვი გამრავლებისათვის\n",
      " a =  1\n",
      " b =  2\n",
      "2\n"
     ]
    }
   ],
   "source": [
    "\n",
    "print('შეიყვანე ორი რიცხვი გამრავლებისათვის')\n",
    "# რა ცვლადებია\n",
    "a=int(input(' a =  '))\n",
    "b=int(input(' b =  '))\n",
    "# კარი გაუღე ცვლადებს\n",
    "global a\n",
    "global b\n",
    "# შემოდი ჩუმად ჩემში\n",
    "def შენ_გრძნობ_სხვები_ამჩნევენ():\n",
    "    # გამამრავლე\n",
    "    print( a * b )\n",
    "შენ_გრძნობ_სხვები_ამჩნევენ()\n"
   ]
  },
  {
   "cell_type": "code",
   "execution_count": null,
   "metadata": {},
   "outputs": [],
   "source": [
    "'კეთილი მანტიორი'\n",
    "'''\n",
    "Type: არგუმენტი სადაა რომ შეგიყვანო ფუნქციაში\n",
    "def func(a):\n",
    "    print(a+a)\n",
    "func()\n",
    "'''"
   ]
  },
  {
   "cell_type": "code",
   "execution_count": null,
   "metadata": {},
   "outputs": [],
   "source": [
    "'''\n",
    "Type: არგუმენტი სადაა რომ შეგიყვანო ფუნქციაში\n",
    "def func(a,b=1):\n",
    "    print(a+a)\n",
    "func(1)\n",
    "'''"
   ]
  },
  {
   "cell_type": "code",
   "execution_count": 12,
   "metadata": {},
   "outputs": [
    {
     "data": {
      "text/plain": [
       "'\\nSyntax: \\ndef func( int(a)):\\n    print(a+a)\\nfunc()\\n'"
      ]
     },
     "execution_count": 12,
     "metadata": {},
     "output_type": "execute_result"
    }
   ],
   "source": [
    "'''\n",
    "Syntax: დუპლიკატებს ნუ მაწვდი\n",
    "def func(a,a):\n",
    "    print(a+a)\n",
    "func(1)\n",
    "'''"
   ]
  },
  {
   "cell_type": "code",
   "execution_count": null,
   "metadata": {},
   "outputs": [],
   "source": [
    "'''\n",
    "Type: ორი მინდა ერთს მაძლევ\n",
    "def func(a,b):\n",
    "    print(a+a)\n",
    "func(1)\n",
    "'''"
   ]
  },
  {
   "cell_type": "code",
   "execution_count": null,
   "metadata": {},
   "outputs": [],
   "source": [
    "'''\n",
    "Type: ორი მინდა ერთს მაძლევ\n",
    "def func(a,b):\n",
    "    print(a+a)\n",
    "func(1)\n",
    "'''"
   ]
  },
  {
   "cell_type": "code",
   "execution_count": 14,
   "metadata": {},
   "outputs": [
    {
     "data": {
      "text/plain": [
       "'\\nType: ერთი  მინდა და ორს მაძლევ\\ndef func(a):\\n    print(a+a)\\nfunc(1,2)\\n'"
      ]
     },
     "execution_count": 14,
     "metadata": {},
     "output_type": "execute_result"
    }
   ],
   "source": [
    "'''\n",
    "Type: ერთი  მინდა და ორს მაძლევ\n",
    "def func(a):\n",
    "    print(a+a)\n",
    "func(1,2)\n",
    "'''"
   ]
  },
  {
   "cell_type": "code",
   "execution_count": 30,
   "metadata": {},
   "outputs": [
    {
     "name": "stdout",
     "output_type": "stream",
     "text": [
      "<class 'int'>\n",
      "<class 'str'>\n",
      "<class 'str'>\n"
     ]
    }
   ],
   "source": [
    "'დავალება'\n",
    "# ინტეჯერად ქცევა\n",
    "def INT(a):\n",
    "    a=int(a)\n",
    "    print(type(a))\n",
    "INT('1')\n",
    "# სტრინგად ქცევა\n",
    "def STR(a):\n",
    "    a=str(a)\n",
    "    print(type(a))\n",
    "STR(1)\n",
    "# ბულად ქცევა\n",
    "c=5\n",
    " (5)\n",
    "# 1.24.0\n",
    "\n"
   ]
  }
 ],
 "metadata": {
  "kernelspec": {
   "display_name": "Python 3",
   "language": "python",
   "name": "python3"
  },
  "language_info": {
   "codemirror_mode": {
    "name": "ipython",
    "version": 3
   },
   "file_extension": ".py",
   "mimetype": "text/x-python",
   "name": "python",
   "nbconvert_exporter": "python",
   "pygments_lexer": "ipython3",
   "version": "3.8.5"
  }
 },
 "nbformat": 4,
 "nbformat_minor": 4
}
