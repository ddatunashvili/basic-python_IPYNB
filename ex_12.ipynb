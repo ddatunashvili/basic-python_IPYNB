{
 "cells": [
  {
   "cell_type": "code",
   "execution_count": 3,
   "metadata": {},
   "outputs": [
    {
     "name": "stdout",
     "output_type": "stream",
     "text": [
      "101\n",
      "შეიყვანე რიცხვი : 1\n"
     ]
    }
   ],
   "source": [
    "'კეთილი მანტიორი'\n",
    "'''\n",
    "----input ში ინტიც და სტრინგიც იწერება \n",
    "age = input(10)\n",
    "'''\n",
    "age = input(10)\n",
    "birthyear = input('შეიყვანე რიცხვი : '  )\n"
   ]
  },
  {
   "cell_type": "code",
   "execution_count": 1,
   "metadata": {},
   "outputs": [
    {
     "name": "stdout",
     "output_type": "stream",
     "text": [
      "101\n"
     ]
    },
    {
     "data": {
      "text/plain": [
       "'1'"
      ]
     },
     "execution_count": 1,
     "metadata": {},
     "output_type": "execute_result"
    }
   ],
   "source": [
    "age = input(10 )\n",
    "age\n",
    "\n"
   ]
  },
  {
   "cell_type": "code",
   "execution_count": 4,
   "metadata": {},
   "outputs": [
    {
     "name": "stdout",
     "output_type": "stream",
     "text": [
      "1\n",
      "რამდენი წლის ხარ? 1\n"
     ]
    }
   ],
   "source": [
    "print(\"რამდენი წლის ხარ?\", input())\n"
   ]
  },
  {
   "cell_type": "code",
   "execution_count": null,
   "metadata": {},
   "outputs": [],
   "source": [
    "x = 10\n",
    "input(\"? \") = x"
   ]
  },
  {
   "cell_type": "code",
   "execution_count": null,
   "metadata": {},
   "outputs": [],
   "source": [
    "'pydoc input'\n",
    "'''\n",
    "Help on built-in function input in module builtins:\n",
    "\n",
    "input(prompt=None, /)\n",
    "    Read a string from standard input.  The trailing newline is stripped.\n",
    "\n",
    "    The prompt string, if given, is printed to standard output without a\n",
    "    trailing newline before reading input.\n",
    "\n",
    "    If the user hits EOF (*nix: Ctrl-D, Windows: Ctrl-Z+Return), raise EOFError.\n",
    "    On *nix systems, readline is used if available\n",
    "'''\n",
    "# წაიკითხე სტრინგი .  შექმენი  ლაინი სადაც იქნება\n",
    "# შეიტანე სტრინგი ინპუტში. სტრინგით მკითხველმა გაიგოს რა შეიყვანოს\n",
    "# შექმენ ახალი ლაინი აუთპუთისთვის\n",
    "'-------------------------------------------------------------'\n",
    "'''\n",
    "სტრინგი მკითხველისათვის (შეიყვანეთ მხოლოდ ასოები): რეალი ბანძია\n",
    "რეალი ბანძია ბარსა განძია\n",
    "'''\n",
    "# ახალ ლაინზე გამოიწანს სტრინგი მკითხველისათვის \n",
    "x = input('სტრინგი მკითხველისათვის (შეიყვანეთ მხოლოდ ასოები): ')\n",
    "# პროცესი\n",
    "x += ', ბარსა განძია'\n",
    "# გამოტანილი შედეგი ახალ ლაინზე\n",
    "print(x)\n",
    "\n"
   ]
  },
  {
   "cell_type": "code",
   "execution_count": null,
   "metadata": {},
   "outputs": [],
   "source": [
    "'pydoc open'\n",
    "'''\n",
    "Help on built-in function open in module io:\n",
    "\n",
    "open(file, mode='r', buffering=-1, encoding=None, errors=None, newline=None, closefd=True, opener=None)\n",
    "    Open file and return a stream.  Raise OSError upon failure.\n",
    "\n",
    "    file is either a text or byte string giving the name (and the path\n",
    "    if the file isn't in the current working directory) of the file to\n",
    "    be opened or an integer file descriptor of the file to be\n",
    "    wrapped. (If a file descriptor is given, it is closed when the\n",
    "    returned I/O object is closed, unless closefd is set to False.)\n",
    "\n",
    "    mode is an optional string that specifies the mode in which the file\n",
    "    is opened. It defaults to 'r' which means open for reading in text\n",
    "    mode.  Other common values are 'w' for writing (truncating the file if\n",
    "    it already exists), 'x' for creating and writing to a new file, and\n",
    "    'a' for appending (which on some Unix systems, means that all writes\n",
    "    append to the end of the file regardless of the current seek position).\n",
    "    In text mode, if encoding is not specified the encoding used is platform\n",
    "    dependent: locale.getpreferredencoding(False) is called to get the\n",
    "    current locale encoding. (For reading and writing raw bytes use binary\n",
    "    mode and leave encoding unspecified.) The available modes are:\n",
    "\n",
    "    ========= ===============================================================\n",
    "    Character Meaning\n",
    "    --------- ---------------------------------------------------------------\n",
    "    'r'       open for reading (default)\n",
    "    'w'       open for writing, truncating the file first\n",
    "    'x'       create a new file and open it for writing\n",
    "    'a'       open for writing, appending to the end of the file if it exists\n",
    "    'b'       binary mode\n",
    "    't'       text mode (default)\n",
    "    '+'       open a disk file for updating (reading and writing)\n",
    "    'U'       universal newline mode (deprecated)\n",
    "    ========= ===============================================================\n",
    "'''"
   ]
  },
  {
   "cell_type": "code",
   "execution_count": null,
   "metadata": {},
   "outputs": [],
   "source": [
    "'pydoc os'\n",
    "'''\n",
    "Help on module os:\n",
    "\n",
    "NAME\n",
    "    os - OS routines for NT or Posix depending on what system we're on.\n",
    "\n",
    "MODULE REFERENCE\n",
    "    https://docs.python.org/3.8/library/os\n",
    "\n",
    "    The following documentation is automatically generated from the Python\n",
    "    source files.  It may be incomplete, incorrect or include features that\n",
    "    are considered implementation detail and may vary between Python\n",
    "    implementations.  When in doubt, consult the module reference at the\n",
    "    location listed above.\n",
    "\n",
    "DESCRIPTION\n",
    "    This exports:\n",
    "      - all functions from posix or nt, e.g. unlink, stat, etc.\n",
    "      - os.path is either posixpath or ntpath\n",
    "      - os.name is either 'posix' or 'nt'\n",
    "      - os.curdir is a string representing the current directory (always '.')\n",
    "      - os.pardir is a string representing the parent directory (always '..')\n",
    "      - os.sep is the (or a most common) pathname separator ('/' or '\\\\')\n",
    "      - os.extsep is the extension separator (always '.')\n",
    "      - os.altsep is the alternate pathname separator (None or '/')\n",
    "      - os.pathsep is the component separator used in $PATH etc\n",
    "      - os.linesep is the line separator in text files ('\\r' or '\\n' or '\\r\\n')\n",
    "      - os.defpath is the default search path for executables\n",
    "      - os.devnull is the file path of the null device ('/dev/null', etc.)\n",
    "\n",
    "    Programs that import and use 'os' stand a better chance of being\n",
    "    portable between different platforms.  Of course, they must then\n",
    "    only use functions that are defined by all platforms (e.g., unlink\n",
    "    and opendir), and leave all pathname manipulation to os.path\n",
    "    (e.g., split and join).\n",
    "\n",
    "'''"
   ]
  },
  {
   "cell_type": "code",
   "execution_count": null,
   "metadata": {},
   "outputs": [],
   "source": [
    "'pydoc sys'\n",
    "'''\n",
    "Help on built-in module sys:\n",
    "\n",
    "NAME\n",
    "    sys\n",
    "\n",
    "MODULE REFERENCE\n",
    "    https://docs.python.org/3.8/library/sys\n",
    "\n",
    "    The following documentation is automatically generated from the Python\n",
    "    source files.  It may be incomplete, incorrect or include features that\n",
    "    are considered implementation detail and may vary between Python\n",
    "    implementations.  When in doubt, consult the module reference at the\n",
    "    location listed above.\n",
    "\n",
    "DESCRIPTION\n",
    "    This module provides access to some objects used or maintained by the\n",
    "    interpreter and to functions that interact strongly with the interpreter.\n",
    "\n",
    "    Dynamic objects:\n",
    "\n",
    "    argv -- command line arguments; argv[0] is the script pathname if known\n",
    "    path -- module search path; path[0] is the script directory, else ''\n",
    "    modules -- dictionary of loaded modules\n",
    "\n",
    "    displayhook -- called to show results in an interactive session\n",
    "    excepthook -- called to handle any uncaught exception other than SystemExit\n",
    "      To customize printing in an interactive session or to install a custom\n",
    "      top-level exception handler, assign other functions to replace these.\n",
    "\n",
    "    stdin -- standard input file object; used by input()\n",
    "    stdout -- standard output file object; used by print()\n",
    "    stderr -- standard error object; used for error messages\n",
    "      By assigning other file objects (or objects that behave like files)\n",
    "      to these, it is possible to redirect all of the interpreter's I/O.\n",
    "\n",
    "    last_type -- type of last uncaught exception\n",
    "    last_value -- value of last uncaught exception\n",
    "    last_traceback -- traceback of last uncaught exception\n",
    "      These three are only available in an interactive session after a\n",
    "      traceback has been printed.\n",
    "\n",
    "    Static objects:\n",
    "\n",
    "    builtin_module_names -- tuple of module names built into this interpreter\n",
    "    copyright -- copyright notice pertaining to this interpreter\n",
    "    exec_prefix -- prefix used to find the machine-specific Python library\n",
    "    executable -- absolute path of the executable binary of the Python interpreter\n",
    "    float_info -- a named tuple with information about the float implementation.\n",
    "    float_repr_style -- string indicating the style of repr() output for floats\n",
    "    hash_info -- a named tuple with information about the hash algorithm.\n",
    "    hexversion -- version information encoded as a single integer\n",
    "    implementation -- Python implementation information.\n",
    "    int_info -- a named tuple with information about the int implementation.\n",
    "    maxsize -- the largest supported length of containers.\n",
    "    maxunicode -- the value of the largest Unicode code point\n",
    "    platform -- platform identifier\n",
    "    prefix -- prefix used to find the Python library\n",
    "    thread_info -- a named tuple with information about the thread implementation.\n",
    "    version -- the version of this interpreter as a string\n",
    "    version_info -- version information as a named tuple\n",
    "    dllhandle -- [Windows only] integer handle of the Python DLL\n",
    "    winver -- [Windows only] version number of the Python DLL\n",
    "    _enablelegacywindowsfsencoding -- [Windows only]\n",
    "    __stdin__ -- the original stdin; don't touch!\n",
    "    __stdout__ -- the original stdout; don't touch!\n",
    "    __stderr__ -- the original stderr; don't touch!\n",
    "    __displayhook__ -- the original displayhook; don't touch!\n",
    "    __excepthook__ -- the original excepthook; don't touch!\n",
    "\n",
    "    Functions:\n",
    "\n",
    "    displayhook() -- print an object to the screen, and save it in builtins._\n",
    "    excepthook() -- print an exception and its traceback to sys.stderr\n",
    "    exc_info() -- return thread-safe information about the current exception\n",
    "    exit() -- exit the interpreter by raising SystemExit\n",
    "    getdlopenflags() -- returns flags to be used for dlopen() calls\n",
    "    getprofile() -- get the global profiling function\n",
    "    getrefcount() -- return the reference count for an object (plus one :-)\n",
    "    getrecursionlimit() -- return the max recursion depth for the interpreter\n",
    "    getsizeof() -- return the size of an object in bytes\n",
    "    gettrace() -- get the global debug tracing function\n",
    "    setcheckinterval() -- control how often the interpreter checks for events\n",
    "    setdlopenflags() -- set the flags to be used for dlopen() calls\n",
    "    setprofile() -- set the global profiling function\n",
    "    setrecursionlimit() -- set the max recursion depth for the interpreter\n",
    "    settrace() -- set the global debug tracing function\n",
    "'''"
   ]
  },
  {
   "cell_type": "code",
   "execution_count": null,
   "metadata": {},
   "outputs": [],
   "source": [
    "'pydoc purpose'\n",
    "'''\n",
    "The pydoc module automatically generates documentation from Python modules.\n",
    "The documentation can be presented as pages of text on the console, served to a Web browser,\n",
    "or saved to HTML files.\n",
    "'''\n",
    "# ავტომატურად აგენერირებ პითონის მოდულების შესახებ საჭირო დოკუმენტაციას\n",
    "# დოკუმენტაცია შესაძლებელია იყოს ტექსტური კონოლში, ბრაუზერში გახსნილი ან html ფაილის სახით"
   ]
  },
  {
   "cell_type": "code",
   "execution_count": null,
   "metadata": {},
   "outputs": [],
   "source": []
  }
 ],
 "metadata": {
  "kernelspec": {
   "display_name": "Python 3",
   "language": "python",
   "name": "python3"
  },
  "language_info": {
   "codemirror_mode": {
    "name": "ipython",
    "version": 3
   },
   "file_extension": ".py",
   "mimetype": "text/x-python",
   "name": "python",
   "nbconvert_exporter": "python",
   "pygments_lexer": "ipython3",
   "version": "3.8.3"
  }
 },
 "nbformat": 4,
 "nbformat_minor": 4
}
